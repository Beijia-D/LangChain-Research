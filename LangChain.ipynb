{
 "cells": [
  {
   "cell_type": "code",
   "execution_count": 11,
   "metadata": {},
   "outputs": [
    {
     "name": "stdout",
     "output_type": "stream",
     "text": [
      "eyJhbGciOiJSUzI1NiIsImprdSI6Imh0dHBzOi8vbGVhcm5pbmcuYXV0aGVudGljYXRpb24uc2FwLmhhbmEub25kZW1hbmQuY29tL3Rva2VuX2tleXMiLCJraWQiOiJkZWZhdWx0LWp3dC1rZXktLTIzMzI4MjQ0NSIsInR5cCI6IkpXVCIsImppZCI6ICJ4S1JUaTEwUjFOaUpRZkE2OXFhSFZ4YUtlN3RERmhsKzZTc1NieXJheWpVPSJ9.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.kNioh25zFBPxrIa97Kp_gYJ3G-jtye4UR0z99XPyfhF9U85D2S5dB3I99iOkX3vG1DW_eDkdEFwBYn1RWFhjjub8i0mRgLT_7pQILIRUMwu2-pjdF8choWGtp3DUPnga3opMTs7EFLtXo8B85CQim-wWeNuPDd9gVtySVjDBq_KbFVvCk6Gnhngjcp11YZzTye6rtX6USxXi1pmTaEXjjHBa-cCBSQzuMom2GFzjIEAUC1y_qie-VB6zMDqybSmYO5IcPSnkn4v1W3st8RGgBg-NA50E973pc2sEi79NRTbiW2dyRXuoXIyEnTGQvfUVXk51BRaI0JFefKGTWONXOQ\n"
     ]
    }
   ],
   "source": [
    "# Get the user token for api access\n",
    "import requests\n",
    "from requests.auth import HTTPBasicAuth\n",
    "client_id = 'sb-75479b89-e2f4-4c3f-a722-486e9bdd9dc8!b39571|xsuaa_std!b77089'\n",
    "client_secret = '2ae79f68-6785-4b28-8ed5-825e1ee154bf$nCq1GdPh6NeyfVNuIYtWP31bNcm-LEC6zmQIlboT6FU='\n",
    "response = requests.get(\n",
    "    'https://learning.authentication.sap.hana.ondemand.com/oauth/token?grant_type=client_credentials',\n",
    "    auth = HTTPBasicAuth(client_id, client_secret)\n",
    ")\n",
    "if (response.status_code != 200):\n",
    "    print(\"Error: \" + str(response.status_code))\n",
    "    print(response.json())\n",
    "    exit(1)\n",
    "userToken = response.json()[\"access_token\"]\n",
    "print(userToken)"
   ]
  },
  {
   "cell_type": "code",
   "execution_count": 13,
   "metadata": {},
   "outputs": [],
   "source": [
    "# Initialize the custom language model\n",
    "import CustomLLM\n",
    "customLLM = CustomLLM.CustomLLM(\n",
    "    url=\"https://api.ai.internalprod.eu-central-1.aws.ml.hana.ondemand.com/v2/inference/deployments/d449d2c58f869ea0/chat/completions?api-version=2023-05-15\",\n",
    "    userToken=userToken,\n",
    "    max_tokens=5000,\n",
    "    temperature=0.0,\n",
    "    frequency_penalty=0,\n",
    "    presence_penalty=0\n",
    ")"
   ]
  },
  {
   "cell_type": "code",
   "execution_count": 3,
   "metadata": {},
   "outputs": [
    {
     "name": "stdout",
     "output_type": "stream",
     "text": [
      "\u001b[1mCustomLLM\u001b[0m\n",
      "Params: {'url': 'https://api.ai.internalprod.eu-central-1.aws.ml.hana.ondemand.com/v2/inference/deployments/d449d2c58f869ea0/chat/completions?api-version=2023-05-15', 'userToken': 'eyJhbGciOiJSUzI1NiIsImprdSI6Imh0dHBzOi8vbGVhcm5pbmcuYXV0aGVudGljYXRpb24uc2FwLmhhbmEub25kZW1hbmQuY29tL3Rva2VuX2tleXMiLCJraWQiOiJkZWZhdWx0LWp3dC1rZXktLTIzMzI4MjQ0NSIsInR5cCI6IkpXVCIsImppZCI6ICJZQjBSZjBuRURrbkMva0ZEWkRyTEViYTRYQnlhMkloeXdTUERRdThaYzVJPSJ9.eyJqdGkiOiIzNGZiOTIwZmNiNzM0OWRhYTY5YTlmYjgxMDMxMDljMSIsImV4dF9hdHRyIjp7ImVuaGFuY2VyIjoiWFNVQUEiLCJzdWJhY2NvdW50aWQiOiI0ZWFkOTk5MS01NWRkLTQxMzUtOTViZi1hZThkZjNlMDI3MmMiLCJ6ZG4iOiJsZWFybmluZyIsInNlcnZpY2VpbnN0YW5jZWlkIjoiNzU0NzliODktZTJmNC00YzNmLWE3MjItNDg2ZTliZGQ5ZGM4In0sInN1YiI6InNiLTc1NDc5Yjg5LWUyZjQtNGMzZi1hNzIyLTQ4NmU5YmRkOWRjOCFiMzk1NzF8eHN1YWFfc3RkIWI3NzA4OSIsImF1dGhvcml0aWVzIjpbInhzdWFhX3N0ZCFiNzcwODkuc2NlbmFyaW9zLmV4ZWN1dGlvbnMuY2FuY2VsIiwieHN1YWFfc3RkIWI3NzA4OS5zY2VuYXJpb3MucmVhZCIsInhzdWFhX3N0ZCFiNzcwODkuc2NlbmFyaW9zLm1ldHJpY3MuY3JlYXRlIiwieHN1YWFfc3RkIWI3NzA4OS5yZXNvdXJjZWdyb3VwLmNyZWF0ZSIsInhzdWFhX3N0ZCFiNzcwODkub2JqZWN0c3RvcmVzZWNyZXQuY3JlZGVudGlhbHMucmVhZCIsInhzdWFhX3N0ZCFiNzcwODkuZGVwbG95bWVudHMubG9ncy5yZWFkIiwieHN1YWFfc3RkIWI3NzA4OS5kb2NrZXJyZWdpc3RyeXNlY3JldC5jcmVkZW50aWFscy5jcmVhdGUiLCJ4c3VhYV9zdGQhYjc3MDg5LnNjZW5hcmlvcy5kZXBsb3ltZW50cy51cGRhdGUiLCJ4c3VhYV9zdGQhYjc3MDg5LnNlY3JldHMucmVhZCIsInVhYS5yZXNvdXJjZSIsInhzdWFhX3N0ZCFiNzcwODkua3Bpcy5yZWFkIiwieHN1YWFfc3RkIWI3NzA4OS5zY2VuYXJpb3MuZXhlY3V0aW9uc2NoZWR1bGVzLmNyZWF0ZSIsInhzdWFhX3N0ZCFiNzcwODkuc2NlbmFyaW9zLmV4ZWN1dGlvbnMuY3JlYXRlIiwieHN1YWFfc3RkIWI3NzA4OS5yZXBvc2l0b3JpZXMucmVhZCIsInhzdWFhX3N0ZCFiNzcwODkuYXBwbGljYXRpb25zLmNyZWF0ZSIsInhzdWFhX3N0ZCFiNzcwODkubWxmY29ubmVjdGlvbi5jcmVkZW50aWFscy5kZWxldGUiLCJ4c3VhYV9zdGQhYjc3MDg5LnJlc291cmNlZ3JvdXAucmVhZCIsInhzdWFhX3N0ZCFiNzcwODkuc2VjcmV0cy51cGRhdGUiLCJ4c3VhYV9zdGQhYjc3MDg5Lm9iamVjdHN0b3Jlc2VjcmV0LmNyZWRlbnRpYWxzLmNyZWF0ZSIsInhzdWFhX3N0ZCFiNzcwODkuZGF0YXNldHMuZG93bmxvYWQiLCJ4c3VhYV9zdGQhYjc3MDg5LnNjZW5hcmlvcy5leGVjdXRpb25zY2hlZHVsZXMucmVhZCIsInhzdWFhX3N0ZCFiNzcwODkuc2NlbmFyaW9zLmV4ZWN1dGlvbnNjaGVkdWxlcy51cGRhdGUiLCJ4c3VhYV9zdGQhYjc3MDg5LnJlcG9zaXRvcmllcy5kZWxldGUiLCJ4c3VhYV9zdGQhYjc3MDg5LmRvY2tlcnJlZ2lzdHJ5c2VjcmV0LmNyZWRlbnRpYWxzLnJlYWQiLCJ4c3VhYV9zdGQhYjc3MDg5Lm9iamVjdHN0b3Jlc2VjcmV0LmNyZWRlbnRpYWxzLmRlbGV0ZSIsInhzdWFhX3N0ZCFiNzcwODkuZG9ja2VycmVnaXN0cnlzZWNyZXQuY3JlZGVudGlhbHMudXBkYXRlIiwieHN1YWFfc3RkIWI3NzA4OS5zY2VuYXJpb3MuZXhlY3V0aW9ucy5kZWxldGUiLCJ4c3VhYV9zdGQhYjc3MDg5LmRhdGFzZXRzLnVwbG9hZCIsInhzdWFhX3N0ZCFiNzcwODkubWxmY29ubmVjdGlvbi5jcmVkZW50aWFscy5yZWFkIiwieHN1YWFfc3RkIWI3NzA4OS5kb2NrZXJyZWdpc3RyeXNlY3JldC5jcmVkZW50aWFscy5kZWxldGUiLCJ4c3VhYV9zdGQhYjc3MDg5LnNjZW5hcmlvcy5kZXBsb3ltZW50cy5yZWFkIiwieHN1YWFfc3RkIWI3NzA4OS5zY2VuYXJpb3MuY29uZmlndXJhdGlvbnMuY3JlYXRlIiwieHN1YWFfc3RkIWI3NzA4OS5zZWNyZXRzLmRlbGV0ZSIsInhzdWFhX3N0ZCFiNzcwODkucmVzb3VyY2Vncm91cC5kZWxldGUiLCJ4c3VhYV9zdGQhYjc3MDg5LnNjZW5hcmlvcy5kZXBsb3ltZW50cy5wcmVkaWN0IiwieHN1YWFfc3RkIWI3NzA4OS5hcHBsaWNhdGlvbnMucmVhZCIsInhzdWFhX3N0ZCFiNzcwODkuc2NlbmFyaW9zLmV4ZWN1dGlvbnMucmVhZCIsInhzdWFhX3N0ZCFiNzcwODkuYXBwbGljYXRpb25zLmRlbGV0ZSIsInhzdWFhX3N0ZCFiNzcwODkub2JqZWN0c3RvcmVzZWNyZXQuY3JlZGVudGlhbHMudXBkYXRlIiwieHN1YWFfc3RkIWI3NzA4OS5zY2VuYXJpb3MuYXJ0aWZhY3RzLnJlYWQiLCJ4c3VhYV9zdGQhYjc3MDg5LnNjZW5hcmlvcy5leGVjdXRhYmxlcy5yZWFkIiwieHN1YWFfc3RkIWI3NzA4OS5zZXJ2aWNlcy5yZWFkIiwieHN1YWFfc3RkIWI3NzA4OS5zY2VuYXJpb3MuZGVwbG95bWVudHMuY3JlYXRlIiwieHN1YWFfc3RkIWI3NzA4OS5yZXBvc2l0b3JpZXMudXBkYXRlIiwieHN1YWFfc3RkIWI3NzA4OS5leGVjdXRpb25zLmxvZ3MucmVhZCIsInhzdWFhX3N0ZCFiNzcwODkuc2NlbmFyaW9zLm1ldHJpY3MucmVhZCIsInhzdWFhX3N0ZCFiNzcwODkuYXBwbGljYXRpb25zLnVwZGF0ZSIsInhzdWFhX3N0ZCFiNzcwODkubWxmY29ubmVjdGlvbi5jcmVkZW50aWFscy51cGRhdGUiLCJ4c3VhYV9zdGQhYjc3MDg5LnNlY3JldHMuY3JlYXRlIiwieHN1YWFfc3RkIWI3NzA4OS5tZXRhLnJlYWQiLCJ4c3VhYV9zdGQhYjc3MDg5LnNjZW5hcmlvcy5kZXBsb3ltZW50cy5kZWxldGUiLCJ4c3VhYV9zdGQhYjc3MDg5LmxvZ3MucmVhZCIsInhzdWFhX3N0ZCFiNzcwODkuc2NlbmFyaW9zLmFydGlmYWN0cy5jcmVhdGUiLCJ4c3VhYV9zdGQhYjc3MDg5LmRhdGFzZXRzLmRlbGV0ZSIsInhzdWFhX3N0ZCFiNzcwODkucmVwb3NpdG9yaWVzLmNyZWF0ZSIsInhzdWFhX3N0ZCFiNzcwODkuc2NlbmFyaW9zLm1ldHJpY3MuZGVsZXRlIiwieHN1YWFfc3RkIWI3NzA4OS5zY2VuYXJpb3MuZXhlY3V0aW9uc2NoZWR1bGVzLmRlbGV0ZSIsInhzdWFhX3N0ZCFiNzcwODkubWxmY29ubmVjdGlvbi5jcmVkZW50aWFscy5jcmVhdGUiLCJ4c3VhYV9zdGQhYjc3MDg5LnNjZW5hcmlvcy5jb25maWd1cmF0aW9ucy5yZWFkIl0sInNjb3BlIjpbInhzdWFhX3N0ZCFiNzcwODkuc2NlbmFyaW9zLmV4ZWN1dGlvbnMuY2FuY2VsIiwieHN1YWFfc3RkIWI3NzA4OS5zY2VuYXJpb3MucmVhZCIsInhzdWFhX3N0ZCFiNzcwODkuc2NlbmFyaW9zLm1ldHJpY3MuY3JlYXRlIiwieHN1YWFfc3RkIWI3NzA4OS5yZXNvdXJjZWdyb3VwLmNyZWF0ZSIsInhzdWFhX3N0ZCFiNzcwODkub2JqZWN0c3RvcmVzZWNyZXQuY3JlZGVudGlhbHMucmVhZCIsInhzdWFhX3N0ZCFiNzcwODkuZGVwbG95bWVudHMubG9ncy5yZWFkIiwieHN1YWFfc3RkIWI3NzA4OS5kb2NrZXJyZWdpc3RyeXNlY3JldC5jcmVkZW50aWFscy5jcmVhdGUiLCJ4c3VhYV9zdGQhYjc3MDg5LnNjZW5hcmlvcy5kZXBsb3ltZW50cy51cGRhdGUiLCJ4c3VhYV9zdGQhYjc3MDg5LnNlY3JldHMucmVhZCIsInVhYS5yZXNvdXJjZSIsInhzdWFhX3N0ZCFiNzcwODkua3Bpcy5yZWFkIiwieHN1YWFfc3RkIWI3NzA4OS5zY2VuYXJpb3MuZXhlY3V0aW9uc2NoZWR1bGVzLmNyZWF0ZSIsInhzdWFhX3N0ZCFiNzcwODkuc2NlbmFyaW9zLmV4ZWN1dGlvbnMuY3JlYXRlIiwieHN1YWFfc3RkIWI3NzA4OS5yZXBvc2l0b3JpZXMucmVhZCIsInhzdWFhX3N0ZCFiNzcwODkuYXBwbGljYXRpb25zLmNyZWF0ZSIsInhzdWFhX3N0ZCFiNzcwODkubWxmY29ubmVjdGlvbi5jcmVkZW50aWFscy5kZWxldGUiLCJ4c3VhYV9zdGQhYjc3MDg5LnJlc291cmNlZ3JvdXAucmVhZCIsInhzdWFhX3N0ZCFiNzcwODkuc2VjcmV0cy51cGRhdGUiLCJ4c3VhYV9zdGQhYjc3MDg5Lm9iamVjdHN0b3Jlc2VjcmV0LmNyZWRlbnRpYWxzLmNyZWF0ZSIsInhzdWFhX3N0ZCFiNzcwODkuZGF0YXNldHMuZG93bmxvYWQiLCJ4c3VhYV9zdGQhYjc3MDg5LnNjZW5hcmlvcy5leGVjdXRpb25zY2hlZHVsZXMucmVhZCIsInhzdWFhX3N0ZCFiNzcwODkuc2NlbmFyaW9zLmV4ZWN1dGlvbnNjaGVkdWxlcy51cGRhdGUiLCJ4c3VhYV9zdGQhYjc3MDg5LnJlcG9zaXRvcmllcy5kZWxldGUiLCJ4c3VhYV9zdGQhYjc3MDg5LmRvY2tlcnJlZ2lzdHJ5c2VjcmV0LmNyZWRlbnRpYWxzLnJlYWQiLCJ4c3VhYV9zdGQhYjc3MDg5Lm9iamVjdHN0b3Jlc2VjcmV0LmNyZWRlbnRpYWxzLmRlbGV0ZSIsInhzdWFhX3N0ZCFiNzcwODkuZG9ja2VycmVnaXN0cnlzZWNyZXQuY3JlZGVudGlhbHMudXBkYXRlIiwieHN1YWFfc3RkIWI3NzA4OS5zY2VuYXJpb3MuZXhlY3V0aW9ucy5kZWxldGUiLCJ4c3VhYV9zdGQhYjc3MDg5LmRhdGFzZXRzLnVwbG9hZCIsInhzdWFhX3N0ZCFiNzcwODkubWxmY29ubmVjdGlvbi5jcmVkZW50aWFscy5yZWFkIiwieHN1YWFfc3RkIWI3NzA4OS5kb2NrZXJyZWdpc3RyeXNlY3JldC5jcmVkZW50aWFscy5kZWxldGUiLCJ4c3VhYV9zdGQhYjc3MDg5LnNjZW5hcmlvcy5kZXBsb3ltZW50cy5yZWFkIiwieHN1YWFfc3RkIWI3NzA4OS5zY2VuYXJpb3MuY29uZmlndXJhdGlvbnMuY3JlYXRlIiwieHN1YWFfc3RkIWI3NzA4OS5zZWNyZXRzLmRlbGV0ZSIsInhzdWFhX3N0ZCFiNzcwODkucmVzb3VyY2Vncm91cC5kZWxldGUiLCJ4c3VhYV9zdGQhYjc3MDg5LnNjZW5hcmlvcy5kZXBsb3ltZW50cy5wcmVkaWN0IiwieHN1YWFfc3RkIWI3NzA4OS5hcHBsaWNhdGlvbnMucmVhZCIsInhzdWFhX3N0ZCFiNzcwODkuc2NlbmFyaW9zLmV4ZWN1dGlvbnMucmVhZCIsInhzdWFhX3N0ZCFiNzcwODkuYXBwbGljYXRpb25zLmRlbGV0ZSIsInhzdWFhX3N0ZCFiNzcwODkub2JqZWN0c3RvcmVzZWNyZXQuY3JlZGVudGlhbHMudXBkYXRlIiwieHN1YWFfc3RkIWI3NzA4OS5zY2VuYXJpb3MuYXJ0aWZhY3RzLnJlYWQiLCJ4c3VhYV9zdGQhYjc3MDg5LnNjZW5hcmlvcy5leGVjdXRhYmxlcy5yZWFkIiwieHN1YWFfc3RkIWI3NzA4OS5zZXJ2aWNlcy5yZWFkIiwieHN1YWFfc3RkIWI3NzA4OS5zY2VuYXJpb3MuZGVwbG95bWVudHMuY3JlYXRlIiwieHN1YWFfc3RkIWI3NzA4OS5yZXBvc2l0b3JpZXMudXBkYXRlIiwieHN1YWFfc3RkIWI3NzA4OS5leGVjdXRpb25zLmxvZ3MucmVhZCIsInhzdWFhX3N0ZCFiNzcwODkuc2NlbmFyaW9zLm1ldHJpY3MucmVhZCIsInhzdWFhX3N0ZCFiNzcwODkuYXBwbGljYXRpb25zLnVwZGF0ZSIsInhzdWFhX3N0ZCFiNzcwODkubWxmY29ubmVjdGlvbi5jcmVkZW50aWFscy51cGRhdGUiLCJ4c3VhYV9zdGQhYjc3MDg5LnNlY3JldHMuY3JlYXRlIiwieHN1YWFfc3RkIWI3NzA4OS5tZXRhLnJlYWQiLCJ4c3VhYV9zdGQhYjc3MDg5LnNjZW5hcmlvcy5kZXBsb3ltZW50cy5kZWxldGUiLCJ4c3VhYV9zdGQhYjc3MDg5LmxvZ3MucmVhZCIsInhzdWFhX3N0ZCFiNzcwODkuc2NlbmFyaW9zLmFydGlmYWN0cy5jcmVhdGUiLCJ4c3VhYV9zdGQhYjc3MDg5LmRhdGFzZXRzLmRlbGV0ZSIsInhzdWFhX3N0ZCFiNzcwODkucmVwb3NpdG9yaWVzLmNyZWF0ZSIsInhzdWFhX3N0ZCFiNzcwODkuc2NlbmFyaW9zLm1ldHJpY3MuZGVsZXRlIiwieHN1YWFfc3RkIWI3NzA4OS5zY2VuYXJpb3MuZXhlY3V0aW9uc2NoZWR1bGVzLmRlbGV0ZSIsInhzdWFhX3N0ZCFiNzcwODkubWxmY29ubmVjdGlvbi5jcmVkZW50aWFscy5jcmVhdGUiLCJ4c3VhYV9zdGQhYjc3MDg5LnNjZW5hcmlvcy5jb25maWd1cmF0aW9ucy5yZWFkIl0sImNsaWVudF9pZCI6InNiLTc1NDc5Yjg5LWUyZjQtNGMzZi1hNzIyLTQ4NmU5YmRkOWRjOCFiMzk1NzF8eHN1YWFfc3RkIWI3NzA4OSIsImNpZCI6InNiLTc1NDc5Yjg5LWUyZjQtNGMzZi1hNzIyLTQ4NmU5YmRkOWRjOCFiMzk1NzF8eHN1YWFfc3RkIWI3NzA4OSIsImF6cCI6InNiLTc1NDc5Yjg5LWUyZjQtNGMzZi1hNzIyLTQ4NmU5YmRkOWRjOCFiMzk1NzF8eHN1YWFfc3RkIWI3NzA4OSIsImdyYW50X3R5cGUiOiJjbGllbnRfY3JlZGVudGlhbHMiLCJyZXZfc2lnIjoiOWVkNDMxMTAiLCJpYXQiOjE3MDg0OTU0MzMsImV4cCI6MTcwODUzODYzMywiaXNzIjoiaHR0cHM6Ly9sZWFybmluZy5hdXRoZW50aWNhdGlvbi5zYXAuaGFuYS5vbmRlbWFuZC5jb20vb2F1dGgvdG9rZW4iLCJ6aWQiOiIzNWQ2OWQyYy1iNTc0LTQ2YmEtOTEyYS0yODk1MWM1ZGQxMjYiLCJhdWQiOlsieHN1YWFfc3RkIWI3NzA4OS5rcGlzIiwieHN1YWFfc3RkIWI3NzA4OS5kYXRhc2V0cyIsInhzdWFhX3N0ZCFiNzcwODkuc2NlbmFyaW9zIiwieHN1YWFfc3RkIWI3NzA4OS5zY2VuYXJpb3MuY29uZmlndXJhdGlvbnMiLCJ4c3VhYV9zdGQhYjc3MDg5Lm1ldGEiLCJ4c3VhYV9zdGQhYjc3MDg5LnJlcG9zaXRvcmllcyIsInhzdWFhX3N0ZCFiNzcwODkuZXhlY3V0aW9ucy5sb2dzIiwieHN1YWFfc3RkIWI3NzA4OS5hcHBsaWNhdGlvbnMiLCJzYi03NTQ3OWI4OS1lMmY0LTRjM2YtYTcyMi00ODZlOWJkZDlkYzghYjM5NTcxfHhzdWFhX3N0ZCFiNzcwODkiLCJ1YWEiLCJ4c3VhYV9zdGQhYjc3MDg5LnJlc291cmNlZ3JvdXAiLCJ4c3VhYV9zdGQhYjc3MDg5LnNjZW5hcmlvcy5leGVjdXRpb25zY2hlZHVsZXMiLCJ4c3VhYV9zdGQhYjc3MDg5LnNlcnZpY2VzIiwieHN1YWFfc3RkIWI3NzA4OS5sb2dzIiwieHN1YWFfc3RkIWI3NzA4OS5tbGZjb25uZWN0aW9uLmNyZWRlbnRpYWxzIiwieHN1YWFfc3RkIWI3NzA4OS5vYmplY3RzdG9yZXNlY3JldC5jcmVkZW50aWFscyIsInhzdWFhX3N0ZCFiNzcwODkuZGVwbG95bWVudHMubG9ncyIsInhzdWFhX3N0ZCFiNzcwODkuZG9ja2VycmVnaXN0cnlzZWNyZXQuY3JlZGVudGlhbHMiLCJ4c3VhYV9zdGQhYjc3MDg5LnNjZW5hcmlvcy5kZXBsb3ltZW50cyIsInhzdWFhX3N0ZCFiNzcwODkuc2VjcmV0cyIsInhzdWFhX3N0ZCFiNzcwODkuc2NlbmFyaW9zLmV4ZWN1dGlvbnMiLCJ4c3VhYV9zdGQhYjc3MDg5LnNjZW5hcmlvcy5tZXRyaWNzIiwieHN1YWFfc3RkIWI3NzA4OS5zY2VuYXJpb3MuYXJ0aWZhY3RzIiwieHN1YWFfc3RkIWI3NzA4OS5zY2VuYXJpb3MuZXhlY3V0YWJsZXMiXX0.nUxrgYsbU7kd4M2asuS8hnpCZkNp23gxIGmjKwzvplc2vpR2g4SicRPfG4G0xvk9HXNwqEFldKSMBSwnZmveOH7RpcQXiNLyJWFATe2AUOY2MYO1d-ZsFfNsUqTTPQr6Eg9xtqYNTLsmCMKFNR7J-qzymMFBI2Qb5qTBWx_e5R1GaTNMuF4Ile_uCz5bcJfPzhpvrXXLeTg36xhqnFv5VAQHZk3E0XrPZD4WrrszkAX2kZwMdy_W3n5CB_6nGdr0H0LG6j1GABtoTZRhUIkxEyMD4bHumKHD71n4fUDLlkZ5OrpI_EAH0elfZ1RBfIwLootix0xSzo88d6jCGZF-dA', 'max_tokens': 5000, 'temperature': 0.0, 'frequency_penalty': 0.0, 'presence_penalty': 0.0}\n"
     ]
    }
   ],
   "source": [
    "print(customLLM)"
   ]
  },
  {
   "cell_type": "code",
   "execution_count": 7,
   "metadata": {},
   "outputs": [
    {
     "name": "stdout",
     "output_type": "stream",
     "text": [
      "Prompt:  System: You are an assistant and your response is in json format. Please provide a response to the user input. User: Give me a list of colors.\n",
      "Sending request...\n",
      "End of request...\n"
     ]
    },
    {
     "data": {
      "text/plain": [
       "'{\\n  \"assistant\": {\\n    \"message\": {\\n      \"text\": \"Sure, here is a list of some common colors:\",\\n      \"colors\": [\\n        \"Red\",\\n        \"Blue\",\\n        \"Green\",\\n        \"Yellow\",\\n        \"Black\",\\n        \"White\",\\n        \"Purple\",\\n        \"Orange\",\\n        \"Pink\",\\n        \"Brown\",\\n        \"Gray\"\\n      ]\\n    }\\n  }\\n}'"
      ]
     },
     "execution_count": 7,
     "metadata": {},
     "output_type": "execute_result"
    }
   ],
   "source": [
    "customLLM.invoke(\"System: You are an assistant and your response is in json format. Please provide a response to the user input. User: Give me a list of colors.\")"
   ]
  },
  {
   "cell_type": "code",
   "execution_count": 4,
   "metadata": {},
   "outputs": [
    {
     "name": "stderr",
     "output_type": "stream",
     "text": [
      "c:\\Users\\I554840\\AppData\\Local\\Programs\\Python\\Python310\\lib\\site-packages\\langchain_core\\_api\\deprecation.py:117: LangChainDeprecationWarning: The function `predict` was deprecated in LangChain 0.1.7 and will be removed in 0.2.0. Use invoke instead.\n",
      "  warn_deprecated(\n"
     ]
    },
    {
     "name": "stdout",
     "output_type": "stream",
     "text": [
      "Prompt:  hi!\n",
      "Sending request...\n",
      "End of request...\n"
     ]
    },
    {
     "data": {
      "text/plain": [
       "'Hello! How can I assist you today?'"
      ]
     },
     "execution_count": 4,
     "metadata": {},
     "output_type": "execute_result"
    }
   ],
   "source": [
    "customLLM.predict(\"hi!\")"
   ]
  },
  {
   "cell_type": "code",
   "execution_count": 6,
   "metadata": {},
   "outputs": [
    {
     "data": {
      "text/plain": [
       "'What is a good name for a company that makes colorful socks?'"
      ]
     },
     "execution_count": 6,
     "metadata": {},
     "output_type": "execute_result"
    }
   ],
   "source": [
    "from langchain.prompts import PromptTemplate\n",
    "\n",
    "prompt = PromptTemplate.from_template(\"What is a good name for a company that makes {product}?\")\n",
    "prompt.format(product=\"colorful socks\")"
   ]
  },
  {
   "cell_type": "code",
   "execution_count": 5,
   "metadata": {},
   "outputs": [
    {
     "data": {
      "text/plain": [
       "[SystemMessage(content='You are a helpful assistant that translates English to French.'),\n",
       " HumanMessage(content='I love programming.')]"
      ]
     },
     "execution_count": 5,
     "metadata": {},
     "output_type": "execute_result"
    }
   ],
   "source": [
    "from langchain.prompts.chat import (\n",
    "    ChatPromptTemplate,\n",
    "    SystemMessagePromptTemplate,\n",
    "    HumanMessagePromptTemplate,\n",
    ")\n",
    "\n",
    "template = \"You are a helpful assistant that translates {input_language} to {output_language}.\"\n",
    "system_message_prompt = SystemMessagePromptTemplate.from_template(template)\n",
    "human_template = \"{text}\"\n",
    "human_message_prompt = HumanMessagePromptTemplate.from_template(human_template)\n",
    "\n",
    "chat_prompt = ChatPromptTemplate.from_messages([system_message_prompt, human_message_prompt])\n",
    "\n",
    "chat_prompt.format_messages(input_language=\"English\", output_language=\"French\", text=\"I love programming.\")"
   ]
  },
  {
   "cell_type": "code",
   "execution_count": 5,
   "metadata": {},
   "outputs": [
    {
     "name": "stderr",
     "output_type": "stream",
     "text": [
      "c:\\Users\\I554840\\AppData\\Local\\Programs\\Python\\Python310\\lib\\site-packages\\langchain_core\\_api\\deprecation.py:117: LangChainDeprecationWarning: The function `run` was deprecated in LangChain 0.1.0 and will be removed in 0.2.0. Use invoke instead.\n",
      "  warn_deprecated(\n"
     ]
    },
    {
     "name": "stdout",
     "output_type": "stream",
     "text": [
      "Prompt:  System: You are a helpful assistant who generates comma separated lists.\n",
      "A user will pass in a category, and you should generate 5 objects in that category in a comma separated list.\n",
      "ONLY return a comma separated list, and nothing more.\n",
      "Human: colors\n",
      "Sending request...\n",
      "End of request...\n"
     ]
    },
    {
     "data": {
      "text/plain": [
       "['Red', 'Blue', 'Green', 'Yellow', 'Purple']"
      ]
     },
     "execution_count": 5,
     "metadata": {},
     "output_type": "execute_result"
    }
   ],
   "source": [
    "from langchain.prompts.chat import (\n",
    "    ChatPromptTemplate,\n",
    "    SystemMessagePromptTemplate,\n",
    "    HumanMessagePromptTemplate,\n",
    ")\n",
    "from langchain.chains import LLMChain\n",
    "from langchain.schema import BaseOutputParser\n",
    "\n",
    "class CommaSeparatedListOutputParser(BaseOutputParser):\n",
    "    \"\"\"Parse the output of an LLM call to a comma-separated list.\"\"\"\n",
    "\n",
    "\n",
    "    def parse(self, text: str):\n",
    "        \"\"\"Parse the output of an LLM call.\"\"\"\n",
    "        return text.strip().split(\", \")\n",
    "\n",
    "template = \"\"\"You are a helpful assistant who generates comma separated lists.\n",
    "A user will pass in a category, and you should generate 5 objects in that category in a comma separated list.\n",
    "ONLY return a comma separated list, and nothing more.\"\"\"\n",
    "system_message_prompt = SystemMessagePromptTemplate.from_template(template)\n",
    "human_template = \"{text}\"\n",
    "human_message_prompt = HumanMessagePromptTemplate.from_template(human_template)\n",
    "\n",
    "chat_prompt = ChatPromptTemplate.from_messages([system_message_prompt, human_message_prompt])\n",
    "chain = LLMChain(\n",
    "    llm=customLLM,\n",
    "    prompt=chat_prompt,\n",
    "    output_parser=CommaSeparatedListOutputParser()\n",
    ")\n",
    "chain.run(\"colors\")"
   ]
  },
  {
   "cell_type": "code",
   "execution_count": 17,
   "metadata": {},
   "outputs": [
    {
     "name": "stdout",
     "output_type": "stream",
     "text": [
      "Prompt:  System: You are an experienced risk assessment expert. Please utilize your knowledge of risk management and Security Frameworks like “ISO27001”, Privacy Frameworks like “GRDR”, “HIPAA” and other Compliance Frameworks to answer the questions based on the relevant information.\n",
      "Please perform the following tasks:\n",
      "1 - Understand Treatment types and treatment type classification standards.\n",
      "    1. \"Control\": Control measures are designed to reduce the likelihood or impact of risks. They can include policies, procedures, guidelines, and physical or technological safeguards.\n",
      "    2. \"Response\": Response actions are the steps taken when a risk eventuates, or an incident occurs despite the control measures in place. These actions are intended to minimize the damage or harm caused by the risk.\n",
      "2 - Suggest approperiate treatments based on the risk user given. Your answer should be a list. Every record, it should only contain type and name. “name” is the summary information of treatment, less than 10 words. Please use your knowledge to set name for your treatment.\n",
      "The example of format: {\"treatments\":[{\"Type\": <Type>,\"Name\": <name>},{\"Type\": <Type>,\"Name\": <name>}]}\n",
      "\n",
      "Human: {\"name\": \"Unauthorized access to personal data\", \"description\": \"Personal data must never be accessed by unauthorized persons.\", \"riskCategory\": \"Privacy\", \"total Probability Reduction\": \"7.00\", \"total Impact Reduction\": \"25000000.00EUR\", \"responseDecision_code\": \"mit\", \"Causes\": [{\"Case Name\": \"Outside attack with data theft\", \"Case description\": \"Market Development (External)\"}, {\"Case Name\": \"Misconduct\", \"Case description\": \"Internal Causes, e.g. by Employee\"}], \"Impacts\": [{\"Impact Name\": \"Loss of future revenue\", \"Category\": \"Financial\", \"Impact Value\": \"15000000EUR\", \"Impact level\": \"Very High\", \"Impact description\": \"Direct Loss\"}, {\"Impact Name\": \"Fines from the data protection agency\", \"Category\": \"Legal\", \"Impact Value\": \"25000000EUR\", \"Impact level\": \"Very High\", \"Impact description\": \"Fines and Court Expenses \"}, {\"Impact Name\": \"Loss of customer trust\", \"Category\": \"Financial\", \"Impact Value\": \"5000000EUR\", \"Impact level\": \"Very High\", \"Impact description\": \"Reputation\"}], \"Inherent Risk \": [{\"total lost\": \"450000000EUR\", \"total impact level\": \"Very high\", \"likelihood Value\": \"8.3%\", \"likelihood level\": \"Very Low\", \"risk level\": \"medium\"}]}\n",
      "Sending request...\n",
      "End of request...\n"
     ]
    },
    {
     "data": {
      "text/plain": [
       "[{'Type': 'Control', 'Name': 'Implement Access Control'},\n",
       " {'Type': 'Control', 'Name': 'Regular Security Audits'},\n",
       " {'Type': 'Control', 'Name': 'Employee Training'},\n",
       " {'Type': 'Response', 'Name': 'Incident Response Plan'},\n",
       " {'Type': 'Response', 'Name': 'Data Breach Notification'}]"
      ]
     },
     "execution_count": 17,
     "metadata": {},
     "output_type": "execute_result"
    }
   ],
   "source": [
    "from langchain.prompts.chat import (\n",
    "    ChatPromptTemplate,\n",
    "    SystemMessagePromptTemplate,\n",
    "    HumanMessagePromptTemplate,\n",
    ")\n",
    "from langchain.chains import LLMChain\n",
    "from langchain.schema import BaseOutputParser\n",
    "import json\n",
    "\n",
    "class GetListFromResult(BaseOutputParser):\n",
    "\n",
    "    def parse(self, text: str):\n",
    "        \"\"\"Parse the output of an LLM call.\"\"\"\n",
    "        return json.loads(text)['treatments']\n",
    "\n",
    "template = \"\"\"You are an experienced risk assessment expert. Please utilize your knowledge of risk management and Security Frameworks like “ISO27001”, Privacy Frameworks like “GRDR”, “HIPAA” and other Compliance Frameworks to answer the questions based on the relevant information.\n",
    "Please perform the following tasks:\n",
    "1 - Understand Treatment types and treatment type classification standards.\n",
    "    1. \"Control\": Control measures are designed to reduce the likelihood or impact of risks. They can include policies, procedures, guidelines, and physical or technological safeguards.\n",
    "    2. \"Response\": Response actions are the steps taken when a risk eventuates, or an incident occurs despite the control measures in place. These actions are intended to minimize the damage or harm caused by the risk.\n",
    "2 - Suggest approperiate treatments based on the risk user given. Your answer should be a list. Every record, it should only contain type and name. “name” is the summary information of treatment, less than 10 words. Please use your knowledge to set name for your treatment.\n",
    "The example of format: {format}\n",
    "\"\"\"\n",
    "system_message_prompt = SystemMessagePromptTemplate.from_template(template)\n",
    "human_template = \"{risk}\"\n",
    "human_message_prompt = HumanMessagePromptTemplate.from_template(human_template)\n",
    "\n",
    "chat_prompt = ChatPromptTemplate.from_messages([system_message_prompt, human_message_prompt])\n",
    "chain = LLMChain(\n",
    "    llm=customLLM,\n",
    "    prompt=chat_prompt,\n",
    "    output_parser=GetListFromResult()\n",
    ")\n",
    "risk = {\n",
    "    \"name\": \"Unauthorized access to personal data\",\n",
    "    \"description\": \"Personal data must never be accessed by unauthorized persons.\",\n",
    "    \"riskCategory\": \"Privacy\",\n",
    "    \"total Probability Reduction\": \"7.00\",\n",
    "    \"total Impact Reduction\": \"25000000.00EUR\",\n",
    "    \"responseDecision_code\": \"mit\",\n",
    "    \"Causes\": [\n",
    "        {\n",
    "            \"Case Name\": \"Outside attack with data theft\",\n",
    "            \"Case description\": \"Market Development (External)\"\n",
    "        },\n",
    "        {\n",
    "            \"Case Name\": \"Misconduct\",\n",
    "            \"Case description\": \"Internal Causes, e.g. by Employee\"\n",
    "        }\n",
    "    ],\n",
    "    \"Impacts\": [\n",
    "        {\n",
    "            \"Impact Name\": \"Loss of future revenue\",\n",
    "            \"Category\": \"Financial\",\n",
    "            \"Impact Value\": \"15000000EUR\",\n",
    "            \"Impact level\": \"Very High\",\n",
    "            \"Impact description\": \"Direct Loss\"\n",
    "        },\n",
    "        {\n",
    "            \"Impact Name\": \"Fines from the data protection agency\",\n",
    "            \"Category\": \"Legal\",\n",
    "            \"Impact Value\": \"25000000EUR\",\n",
    "            \"Impact level\": \"Very High\",\n",
    "            \"Impact description\": \"Fines and Court Expenses \"\n",
    "        },\n",
    "        {\n",
    "            \"Impact Name\": \"Loss of customer trust\",\n",
    "            \"Category\": \"Financial\",\n",
    "            \"Impact Value\": \"5000000EUR\",\n",
    "            \"Impact level\": \"Very High\",\n",
    "            \"Impact description\": \"Reputation\"\n",
    "        }\n",
    "    ],\n",
    "    \"Inherent Risk \": [\n",
    "        {\n",
    "            \"total lost\": \"450000000EUR\",\n",
    "            \"total impact level\": \"Very high\",\n",
    "            \"likelihood Value\": \"8.3%\",\n",
    "            \"likelihood level\": \"Very Low\",\n",
    "            \"risk level\": \"medium\"\n",
    "        }\n",
    "    ]\n",
    "}\n",
    "risk_str = json.dumps(risk)\n",
    "response_format = '{\"treatments\":[{\"Type\": <Type>,\"Name\": <name>},{\"Type\": <Type>,\"Name\": <name>}]}'\n",
    "chain.run(risk=risk_str, format=response_format)"
   ]
  }
 ],
 "metadata": {
  "kernelspec": {
   "display_name": "Python 3",
   "language": "python",
   "name": "python3"
  },
  "language_info": {
   "codemirror_mode": {
    "name": "ipython",
    "version": 3
   },
   "file_extension": ".py",
   "mimetype": "text/x-python",
   "name": "python",
   "nbconvert_exporter": "python",
   "pygments_lexer": "ipython3",
   "version": "3.10.2"
  }
 },
 "nbformat": 4,
 "nbformat_minor": 2
}
