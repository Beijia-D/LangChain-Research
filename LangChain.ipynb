{
 "cells": [
  {
   "cell_type": "markdown",
   "metadata": {},
   "source": [
    "# LangChain Research"
   ]
  },
  {
   "cell_type": "code",
   "execution_count": 1,
   "metadata": {},
   "outputs": [],
   "source": [
    "import os\n",
    "from dotenv import load_dotenv\n",
    "load_dotenv()\n",
    "\n",
    "CLIENT_ID = os.getenv(\"CLIENT_ID\")\n",
    "CLIENT_SECRET = os.getenv(\"CLIENT_SECRET\")\n",
    "AUTH_URL = os.getenv(\"AUTH_URL\")\n",
    "LLM_API_URL = os.getenv(\"LLM_API_URL\")\n",
    "EMBEDDING_API_URL = os.getenv(\"EMBEDDING_API_URL\")\n",
    "POSTGRES_CONNECTION_URL = os.getenv(\"POSTGRES_CONNECTION_URL\")"
   ]
  },
  {
   "cell_type": "markdown",
   "metadata": {},
   "source": [
    "### Authorization"
   ]
  },
  {
   "cell_type": "code",
   "execution_count": 2,
   "metadata": {},
   "outputs": [
    {
     "name": "stdout",
     "output_type": "stream",
     "text": [
      "eyJhbGciOiJSUzI1NiIsImprdSI6Imh0dHBzOi8vbGVhcm5pbmcuYXV0aGVudGljYXRpb24uc2FwLmhhbmEub25kZW1hbmQuY29tL3Rva2VuX2tleXMiLCJraWQiOiJkZWZhdWx0LWp3dC1rZXktLTIzMzI4MjQ0NSIsInR5cCI6IkpXVCIsImppZCI6ICJnRmN4Y0F2RkdzTjdWd2ovbUptR3JYWEVlcXhycC9IUEdKUUd1WUdxbEVvPSJ9.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.1IcDpbwENJoiHJdanwK65eSE6xH7TGTYxv42KdpReDdhgIQ96-W8cWanjjHhaOvgyd8HsfxWgnCJi3BtVrHFZz0d1fYNC2dLq7Ly2Cln_1ygXH7PsFO1kbz_fdo4U617SYCi5_h-DDFgQjtmyOxwoheOM0QgBSi-RVMn-WDKzsgK1K_V7J-Iqmh4guhedftRCHwO8YuBv79Bt2JHpPIMIPFEbqi3q2iVdzt-8MfAdEomp1BNRKN6PGnUxZm1CkrXh4yAIkEuw9Aua2oyNYVX-VINoSrHgKe3NIxztkA3M_1udbJdpuwMg0o5oxjyjn7b_vtKX4aBdZotFnlvflrGWQ\n"
     ]
    }
   ],
   "source": [
    "# Get the user token for api access\n",
    "import requests\n",
    "from requests.auth import HTTPBasicAuth\n",
    "response = requests.get(\n",
    "    AUTH_URL,\n",
    "    auth = HTTPBasicAuth(CLIENT_ID, CLIENT_SECRET)\n",
    ")\n",
    "if (response.status_code != 200):\n",
    "    print(\"Error: \" + str(response.status_code))\n",
    "    print(response.json())\n",
    "    exit(1)\n",
    "userToken = response.json()[\"access_token\"]\n",
    "print(userToken)"
   ]
  },
  {
   "cell_type": "markdown",
   "metadata": {},
   "source": [
    "## Model I/O"
   ]
  },
  {
   "cell_type": "markdown",
   "metadata": {},
   "source": [
    "### LLM Model"
   ]
  },
  {
   "cell_type": "code",
   "execution_count": 11,
   "metadata": {},
   "outputs": [],
   "source": [
    "# Initialize the custom language model\n",
    "from CustomModel import CustomLLM\n",
    "\n",
    "customLLM = CustomLLM.CustomLLM(\n",
    "    url=LLM_API_URL,\n",
    "    userToken=userToken,\n",
    "    max_tokens=5000,\n",
    "    temperature=0.0,\n",
    "    frequency_penalty=0,\n",
    "    presence_penalty=0\n",
    ")"
   ]
  },
  {
   "cell_type": "code",
   "execution_count": 3,
   "metadata": {},
   "outputs": [
    {
     "name": "stdout",
     "output_type": "stream",
     "text": [
      "\u001b[1mCustomLLM\u001b[0m\n",
      "Params: {'url': 'https://api.ai.internalprod.eu-central-1.aws.ml.hana.ondemand.com/v2/inference/deployments/d449d2c58f869ea0/chat/completions?api-version=2023-05-15', 'userToken': 'eyJhbGciOiJSUzI1NiIsImprdSI6Imh0dHBzOi8vbGVhcm5pbmcuYXV0aGVudGljYXRpb24uc2FwLmhhbmEub25kZW1hbmQuY29tL3Rva2VuX2tleXMiLCJraWQiOiJkZWZhdWx0LWp3dC1rZXktLTIzMzI4MjQ0NSIsInR5cCI6IkpXVCIsImppZCI6ICJZQjBSZjBuRURrbkMva0ZEWkRyTEViYTRYQnlhMkloeXdTUERRdThaYzVJPSJ9.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.nUxrgYsbU7kd4M2asuS8hnpCZkNp23gxIGmjKwzvplc2vpR2g4SicRPfG4G0xvk9HXNwqEFldKSMBSwnZmveOH7RpcQXiNLyJWFATe2AUOY2MYO1d-ZsFfNsUqTTPQr6Eg9xtqYNTLsmCMKFNR7J-qzymMFBI2Qb5qTBWx_e5R1GaTNMuF4Ile_uCz5bcJfPzhpvrXXLeTg36xhqnFv5VAQHZk3E0XrPZD4WrrszkAX2kZwMdy_W3n5CB_6nGdr0H0LG6j1GABtoTZRhUIkxEyMD4bHumKHD71n4fUDLlkZ5OrpI_EAH0elfZ1RBfIwLootix0xSzo88d6jCGZF-dA', 'max_tokens': 5000, 'temperature': 0.0, 'frequency_penalty': 0.0, 'presence_penalty': 0.0}\n"
     ]
    }
   ],
   "source": [
    "print(customLLM)"
   ]
  },
  {
   "cell_type": "code",
   "execution_count": 9,
   "metadata": {},
   "outputs": [
    {
     "name": "stdout",
     "output_type": "stream",
     "text": [
      "Prompt:  List some official standards about risk management.\n",
      "Sending request to get AI suggestions...\n",
      "End of request...\n",
      "Response:  {'choices': [{'finish_reason': 'stop', 'index': 0, 'message': {'content': '1. ISO 31000:2018 - Risk Management Guidelines: This international standard provides principles, framework, and a process for managing risk.\\n\\n2. COSO Enterprise Risk Management Framework: This is a widely accepted framework used by many organizations to assess and manage risk.\\n\\n3. ISO/IEC 27001:2013 - Information Security Management: This standard provides requirements for establishing, implementing, maintaining, and continually improving an information security management system.\\n\\n4. ISO 14971:2019 - Application of Risk Management to Medical Devices: This standard specifies the process for a manufacturer to identify the hazards associated with medical devices, to estimate and evaluate the associated risks, to control these risks, and to monitor the effectiveness of the controls.\\n\\n5. ISO 22301:2019 - Security and Resilience - Business Continuity Management Systems: This standard specifies requirements to plan, establish, implement, operate, monitor, review, maintain and continually improve a documented management system to protect against, reduce the likelihood of occurrence, prepare for, respond to, and recover from disruptive incidents when they arise.\\n\\n6. AS/NZS 4360:2004 - Risk Management: This Australian/New Zealand standard provides a generic guide for managing risk.\\n\\n7. ISO 45001:2018 - Occupational Health and Safety Management Systems: This standard provides a framework for managing the prevention of work-related injury and ill health.\\n\\n8. NIST SP 800-37 - Risk Management Framework for Information Systems and Organizations: This U.S. standard provides guidelines for applying the Risk Management Framework to federal information systems.\\n\\n9. ISO 14001:2015 - Environmental Management Systems: This standard provides a framework that an organization can follow to set up an effective environmental management system.\\n\\n10. Basel III: This is a global, voluntary regulatory framework on bank capital adequacy, stress testing, and market liquidity risk.', 'role': 'assistant'}}], 'created': 1710210171, 'id': 'chatcmpl-91m4xWxIZSPPpvEh2dFDShWovfN6T', 'model': 'gpt-4-32k', 'object': 'chat.completion', 'system_fingerprint': None, 'usage': {'completion_tokens': 380, 'prompt_tokens': 15, 'total_tokens': 395}}\n"
     ]
    },
    {
     "data": {
      "text/plain": [
       "'1. ISO 31000:2018 - Risk Management Guidelines: This international standard provides principles, framework, and a process for managing risk.\\n\\n2. COSO Enterprise Risk Management Framework: This is a widely accepted framework used by many organizations to assess and manage risk.\\n\\n3. ISO/IEC 27001:2013 - Information Security Management: This standard provides requirements for establishing, implementing, maintaining, and continually improving an information security management system.\\n\\n4. ISO 14971:2019 - Application of Risk Management to Medical Devices: This standard specifies the process for a manufacturer to identify the hazards associated with medical devices, to estimate and evaluate the associated risks, to control these risks, and to monitor the effectiveness of the controls.\\n\\n5. ISO 22301:2019 - Security and Resilience - Business Continuity Management Systems: This standard specifies requirements to plan, establish, implement, operate, monitor, review, maintain and continually improve a documented management system to protect against, reduce the likelihood of occurrence, prepare for, respond to, and recover from disruptive incidents when they arise.\\n\\n6. AS/NZS 4360:2004 - Risk Management: This Australian/New Zealand standard provides a generic guide for managing risk.\\n\\n7. ISO 45001:2018 - Occupational Health and Safety Management Systems: This standard provides a framework for managing the prevention of work-related injury and ill health.\\n\\n8. NIST SP 800-37 - Risk Management Framework for Information Systems and Organizations: This U.S. standard provides guidelines for applying the Risk Management Framework to federal information systems.\\n\\n9. ISO 14001:2015 - Environmental Management Systems: This standard provides a framework that an organization can follow to set up an effective environmental management system.\\n\\n10. Basel III: This is a global, voluntary regulatory framework on bank capital adequacy, stress testing, and market liquidity risk.'"
      ]
     },
     "execution_count": 9,
     "metadata": {},
     "output_type": "execute_result"
    }
   ],
   "source": [
    "customLLM.invoke(\"List some official standards about risk management.\")"
   ]
  },
  {
   "cell_type": "markdown",
   "metadata": {},
   "source": [
    "### Prompt"
   ]
  },
  {
   "cell_type": "code",
   "execution_count": 6,
   "metadata": {},
   "outputs": [
    {
     "data": {
      "text/plain": [
       "'What is a good name for a company that makes colorful socks?'"
      ]
     },
     "execution_count": 6,
     "metadata": {},
     "output_type": "execute_result"
    }
   ],
   "source": [
    "from langchain.prompts import PromptTemplate\n",
    "\n",
    "prompt = PromptTemplate.from_template(\"What is a good name for a company that makes {product}?\")\n",
    "prompt.format(product=\"colorful socks\")"
   ]
  },
  {
   "cell_type": "code",
   "execution_count": 16,
   "metadata": {},
   "outputs": [],
   "source": [
    "from langchain.chains import LLMChain\n",
    "from langchain.schema import BaseOutputParser\n",
    "from langchain.prompts import PromptTemplate\n",
    "\n",
    "class GetListFromResult(BaseOutputParser):\n",
    "\n",
    "    def parse(self, text: str):\n",
    "        \"\"\"Parse the output of an LLM call.\"\"\"\n",
    "        if text == \"Unauthorized\":\n",
    "            return \"Unauthorized\"\n",
    "        return text.strip().split(\", \")\n",
    "\n",
    "template = \"\"\"\n",
    "System: You are an experienced risk assessment expert.There are many widely used risk management standards: ISO 31000, COSO ERM, NIST SP 800-30, and ISO/IEC 27005. You need to know that `Control` measures are designed to reduce the likelihood or impact of risks. They can include policies, procedures, guidelines, and physical or technological safeguards.\n",
    "Please suggest approperiate controls according  to the risk management standard {standard}, based on the risk info users given. Your answer should be a list. Every record, it should only contain control name. “name” is the summary information of treatment, less than 10 words.\n",
    "ONLY return a comma separated list, and nothing more. For example: \"name1, name2, name3, ...nameN\"\n",
    "User: {risk}\n",
    "\"\"\"\n",
    "prompt = PromptTemplate.from_template(template)\n",
    "chain = LLMChain(\n",
    "    llm=customLLM,\n",
    "    prompt=prompt,\n",
    "    output_parser=GetListFromResult()\n",
    ")"
   ]
  },
  {
   "cell_type": "code",
   "execution_count": 55,
   "metadata": {},
   "outputs": [
    {
     "name": "stdout",
     "output_type": "stream",
     "text": [
      "Prompt:  \n",
      "System: You are an experienced risk assessment expert.There are many widely used risk management standards: ISO 31000, COSO ERM, NIST SP 800-30, and ISO/IEC 27005. You need to know that `Control` measures are designed to reduce the likelihood or impact of risks. They can include policies, procedures, guidelines, and physical or technological safeguards.\n",
      "Please suggest approperiate controls according  to the risk management standard ISO 31000:2018 - Risk Management Guidelines, based on the risk info users given. Your answer should be a list. Every record, it should only contain control name. “name” is the summary information of treatment, less than 10 words.\n",
      "ONLY return a comma separated list, and nothing more. For example: \"name1, name2, name3, ...nameN\"\n",
      "User: Reputation Damage from Public Relations Crisis\n",
      "\n",
      "Sending request to get AI suggestions...\n",
      "End of request...\n",
      "Response:  {'choices': [{'finish_reason': 'stop', 'index': 0, 'message': {'content': 'Crisis Management Plan, Media Training, Public Relations Policy, Social Media Guidelines, Reputation Management Strategy, Stakeholder Communication Plan, Incident Response Plan, Brand Monitoring Tools, Employee Code of Conduct, External Communication Policy', 'role': 'assistant'}}], 'created': 1710225763, 'id': 'chatcmpl-91q8RkDDCukGzZWgLzBatMOT2zR6o', 'model': 'gpt-4-32k', 'object': 'chat.completion', 'system_fingerprint': None, 'usage': {'completion_tokens': 42, 'prompt_tokens': 191, 'total_tokens': 233}}\n"
     ]
    }
   ],
   "source": [
    "risk = \"Reputation Damage from Public Relations Crisis\"\n",
    "standard = \"ISO 31000:2018 - Risk Management Guidelines\"\n",
    "ai_results = chain.run(standard=standard, risk=risk)"
   ]
  },
  {
   "cell_type": "code",
   "execution_count": 56,
   "metadata": {},
   "outputs": [],
   "source": [
    "import csv\n",
    "csv_file_path = './retrieval-demo/ai-suggestion.csv'\n",
    "\n",
    "with open(csv_file_path, 'a', newline='') as csv_file:\n",
    "    writer = csv.writer(csv_file)\n",
    "    for control in ai_results:\n",
    "        writer.writerow([risk,control,standard])"
   ]
  },
  {
   "cell_type": "markdown",
   "metadata": {},
   "source": [
    "## Retrieval"
   ]
  },
  {
   "cell_type": "markdown",
   "metadata": {},
   "source": [
    "### Document loader"
   ]
  },
  {
   "cell_type": "code",
   "execution_count": 12,
   "metadata": {},
   "outputs": [],
   "source": [
    "from langchain_community.document_loaders.csv_loader import CSVLoader\n",
    "\n",
    "\n",
    "loader = CSVLoader(file_path='./retrieval-demo/Control.csv', csv_args={\n",
    "    'delimiter': ';',\n",
    "    'quotechar': '\"',\n",
    "    'fieldnames': ['id', 'name', 'description', 'significance']\n",
    "}, source_column=\"id\")\n",
    "documents = loader.load()"
   ]
  },
  {
   "cell_type": "code",
   "execution_count": 10,
   "metadata": {},
   "outputs": [
    {
     "data": {
      "text/plain": [
       "[Document(page_content='id: ISBC-01\\nname: Access Control Policy\\ndescription: Implement a robust access control policy to restrict unauthorized access to sensitive information and systems.\\nsignificance: High', metadata={'source': 'ISBC-01', 'row': 1}),\n",
       " Document(page_content='id: ISBC-02\\nname: Encryption Mechanism\\ndescription: Utilize encryption mechanisms for data at rest and data in transit to safeguard against unauthorized interception and access.\\nsignificance: High', metadata={'source': 'ISBC-02', 'row': 2}),\n",
       " Document(page_content='id: ISBC-03\\nname: Regular Security Audits\\ndescription: Conduct regular security audits and assessments to identify vulnerabilities and ensure compliance with security protocols and standards.\\nsignificance: High', metadata={'source': 'ISBC-03', 'row': 3}),\n",
       " Document(page_content='id: ODTF-01\\nname: Redundancy Planning\\ndescription: Establish redundancy plans for critical systems and infrastructure to minimize downtime in case of technical failures.\\nsignificance: High', metadata={'source': 'ODTF-01', 'row': 4}),\n",
       " Document(page_content='id: ODTF-02\\nname: Disaster Recovery Plan\\ndescription: Develop and maintain a comprehensive disaster recovery plan outlining procedures for restoring operations in the event of a technical failure or disaster.\\nsignificance: High', metadata={'source': 'ODTF-02', 'row': 5}),\n",
       " Document(page_content='id: ODTF-03\\nname: Regular Maintenance Schedule\\ndescription: Implement a routine maintenance schedule for hardware and software systems to proactively identify and address potential issues before they escalate.\\nsignificance: Medium', metadata={'source': 'ODTF-03', 'row': 6}),\n",
       " Document(page_content='id: CV-01\\nname: Compliance Training\\ndescription: Provide regular training sessions to employees on relevant regulations and compliance requirements to ensure awareness and adherence.\\nsignificance: High', metadata={'source': 'CV-01', 'row': 7}),\n",
       " Document(page_content='id: CV-02\\nname: Compliance Monitoring\\ndescription: Establish processes for ongoing monitoring and review of activities to detect and prevent any potential compliance violations.\\nsignificance: High', metadata={'source': 'CV-02', 'row': 8}),\n",
       " Document(page_content='id: CV-03\\nname: Documented Policies and Procedures\\ndescription: Maintain up-to-date documentation of policies and procedures related to regulatory compliance and ensure employees have easy access to this information.\\nsignificance: Medium', metadata={'source': 'CV-03', 'row': 9}),\n",
       " Document(page_content='id: FF-01\\nname: Segregation of Duties\\ndescription: Implement segregation of duties to ensure that no single individual has control over all aspects of financial transactions, reducing the risk of fraud.\\nsignificance: High', metadata={'source': 'FF-01', 'row': 10}),\n",
       " Document(page_content='id: FF-02\\nname: Fraud Detection Mechanisms\\ndescription: Deploy fraud detection mechanisms such as anomaly detection algorithms and transaction monitoring systems to identify suspicious activities in real-time.\\nsignificance: High', metadata={'source': 'FF-02', 'row': 11}),\n",
       " Document(page_content='id: FF-03\\nname: Whistleblower Policy\\ndescription: Establish a whistleblower policy to encourage employees to report any suspected instances of financial fraud confidentially and without fear of retaliation.\\nsignificance: High', metadata={'source': 'FF-03', 'row': 12}),\n",
       " Document(page_content='id: RDPRC-01\\nname: Crisis Communication Plan\\ndescription: Develop a comprehensive crisis communication plan outlining protocols for effectively addressing and mitigating reputational damage in the event of a public relations crisis.\\nsignificance: High', metadata={'source': 'RDPRC-01', 'row': 13}),\n",
       " Document(page_content='id: RDPRC-02\\nname: Media Monitoring\\ndescription: Implement media monitoring tools to track mentions and sentiment about the company in real-time, allowing for swift responses to emerging issues.\\nsignificance: Medium', metadata={'source': 'RDPRC-02', 'row': 14}),\n",
       " Document(page_content='id: RDPRC-03\\nname: Stakeholder Engagement\\ndescription: Maintain open lines of communication with key stakeholders such as customers, investors, and the media to build trust and credibility, reducing the impact of potential reputation damage.\\nsignificance: High', metadata={'source': 'RDPRC-03', 'row': 15})]"
      ]
     },
     "execution_count": 10,
     "metadata": {},
     "output_type": "execute_result"
    }
   ],
   "source": [
    "documents"
   ]
  },
  {
   "cell_type": "code",
   "execution_count": 13,
   "metadata": {},
   "outputs": [
    {
     "data": {
      "text/plain": [
       "Document(page_content='id: id\\nname: name\\ndescription: description\\nsignificance: significance', metadata={'source': 'id', 'row': 0})"
      ]
     },
     "execution_count": 13,
     "metadata": {},
     "output_type": "execute_result"
    }
   ],
   "source": [
    "documents.pop(0)"
   ]
  },
  {
   "cell_type": "markdown",
   "metadata": {},
   "source": [
    "### Embedding"
   ]
  },
  {
   "cell_type": "code",
   "execution_count": 14,
   "metadata": {},
   "outputs": [],
   "source": [
    "from CustomModel import CustomEmbedding\n",
    "\n",
    "embeddings_model = CustomEmbedding.CustomEmbedding(\n",
    "    url=EMBEDDING_API_URL,\n",
    "    userToken=userToken\n",
    ")"
   ]
  },
  {
   "cell_type": "markdown",
   "metadata": {},
   "source": [
    "### Vector Store"
   ]
  },
  {
   "cell_type": "markdown",
   "metadata": {},
   "source": [
    "#### Postgres (Suggested)"
   ]
  },
  {
   "cell_type": "markdown",
   "metadata": {},
   "source": [
    "Suggestion: create a postgres container in docker\n",
    "\n",
    "> [how to install embedding extension](https://dev.to/bkmalan/how-to-add-pgembedding-extension-to-postgresql-2ii6#:~:text=How%20to%20add%20pg_embedding%20extension%20to%20PostgreSQL%201,Following%20command%20creates%20the%20extension%20...%20More%20items)"
   ]
  },
  {
   "cell_type": "code",
   "execution_count": 15,
   "metadata": {},
   "outputs": [],
   "source": [
    "from langchain_community.vectorstores import PGEmbedding\n",
    "\n",
    "collection_name=\"available_controls\"\n",
    "db = PGEmbedding.from_documents(\n",
    "    embedding=embeddings_model,\n",
    "    documents=documents,\n",
    "    collection_name=collection_name,\n",
    "    connection_string=POSTGRES_CONNECTION_URL,\n",
    "    pre_delete_collection=True\n",
    ")"
   ]
  },
  {
   "cell_type": "code",
   "execution_count": 18,
   "metadata": {},
   "outputs": [],
   "source": [
    "from typing import List, Tuple\n",
    "from langchain.docstore.document import Document\n",
    "query = \"name: Information Security Breach\\ndescription: Generally refers to unauthorized access, disclosure, or damage to sensitive information. This can include personal identities, financial data, business secrets, etc. Such breaches may lead to significant security and privacy issues, as well as damage to the reputation of individuals, businesses, or organizations. Breaches can occur due to system vulnerabilities, cyber attacks, internal errors, or malicious actions.\"\n",
    "docs_with_score: List[Tuple[Document, float]] = db.similarity_search_with_score(query, k=15)"
   ]
  },
  {
   "cell_type": "code",
   "execution_count": 20,
   "metadata": {},
   "outputs": [
    {
     "name": "stdout",
     "output_type": "stream",
     "text": [
      "id: ISBC-03\n",
      "name: Regular Security Audits\n",
      "description: Conduct regular security audits and assessments to identify vulnerabilities and ensure compliance with security protocols and standards.\n",
      "significance: High\n",
      "\n",
      "id: ODTF-03\n",
      "name: Regular Maintenance Schedule\n",
      "description: Implement a routine maintenance schedule for hardware and software systems to proactively identify and address potential issues before they escalate.\n",
      "significance: Medium\n",
      "\n",
      "id: CV-02\n",
      "name: Compliance Monitoring\n",
      "description: Establish processes for ongoing monitoring and review of activities to detect and prevent any potential compliance violations.\n",
      "significance: High\n",
      "\n",
      "id: CV-01\n",
      "name: Compliance Training\n",
      "description: Provide regular training sessions to employees on relevant regulations and compliance requirements to ensure awareness and adherence.\n",
      "significance: High\n"
     ]
    }
   ],
   "source": [
    "relevant_docs = []\n",
    "for doc, score in docs_with_score:\n",
    "    if score < 0.65:\n",
    "        relevant_docs.append(doc.page_content)\n",
    "print(\"\\n\\n\".join(relevant_docs))"
   ]
  },
  {
   "cell_type": "code",
   "execution_count": 42,
   "metadata": {},
   "outputs": [],
   "source": [
    "from langchain.chains import LLMChain\n",
    "from langchain.schema import BaseOutputParser\n",
    "from langchain.prompts import PromptTemplate\n",
    "import json\n",
    "\n",
    "class resultFormat(BaseOutputParser):\n",
    "\n",
    "    def parse(self, text: str):\n",
    "        if text == \"Unauthorized\":\n",
    "            return \"Unauthorized\"\n",
    "        return json.loads(text.replace(\"\\n\", \"\"))\n",
    "\n",
    "\n",
    "template = \"\"\"\n",
    "You are an experienced risk assessment expert.There are many widely used risk management standards: ISO 31000, COSO ERM, NIST SP 800-30, and ISO/IEC 27005.\n",
    "You need to know that control measures are designed to reduce the likelihood or impact of risks. They can include policies, procedures, guidelines, and physical or technological safeguards.\n",
    "Now, users have given you the risk information: {risk}. Users want to get some suggestions for controls according to the risk management standard {standard}. Here we found some existing controls for you:\n",
    "{controls}.\n",
    "But above controls may not be applicable for the risk.\n",
    "Please first check if there are any controls that meet the standard and are applicable to the risk provided by the user. If there are, please retain these controls. If not, you can also suggest additional control measures.\n",
    "ONLY return a dictionary, containing two keys: \"applicable_controls\" and \"suggested_controls\". Each key corresponds to a list as its value. The items in the list is also in dictionary. Nothing more!\n",
    "\"\"\"\n",
    "prompt = PromptTemplate.from_template(template)\n",
    "chain = LLMChain(\n",
    "    llm=customLLM,\n",
    "    prompt=prompt,\n",
    "    output_parser=resultFormat()\n",
    ")"
   ]
  },
  {
   "cell_type": "code",
   "execution_count": 43,
   "metadata": {},
   "outputs": [
    {
     "name": "stdout",
     "output_type": "stream",
     "text": [
      "Prompt:  \n",
      "You are an experienced risk assessment expert.There are many widely used risk management standards: ISO 31000, COSO ERM, NIST SP 800-30, and ISO/IEC 27005.\n",
      "You need to know that `Control` measures are designed to reduce the likelihood or impact of risks. They can include policies, procedures, guidelines, and physical or technological safeguards.\n",
      "Now, users have given you the following risk information: name: Regular Security Audits\n",
      "description: Conduct regular security audits and assessments to identify vulnerabilities and ensure compliance with security protocols and standards.. And we found some relevant controls for you: id: ISBC-03\n",
      "name: Regular Security Audits\n",
      "description: Conduct regular security audits and assessments to identify vulnerabilities and ensure compliance with security protocols and standards.\n",
      "significance: High\n",
      "id: ODTF-03\n",
      "name: Regular Maintenance Schedule\n",
      "description: Implement a routine maintenance schedule for hardware and software systems to proactively identify and address potential issues before they escalate.\n",
      "significance: Medium\n",
      "id: CV-02\n",
      "name: Compliance Monitoring\n",
      "description: Establish processes for ongoing monitoring and review of activities to detect and prevent any potential compliance violations.\n",
      "significance: High\n",
      "id: CV-01\n",
      "name: Compliance Training\n",
      "description: Provide regular training sessions to employees on relevant regulations and compliance requirements to ensure awareness and adherence.\n",
      "significance: High. But these controls may not be applicable for the risk.\n",
      "Users want to get some suggestions for controls according to the risk management standard NIST SP 800-37 - Risk Management Framework for Information Systems and Organizations.\n",
      "Please first check if there are any controls in place that meet the standard and are applicable to the risk provided by the user. If there are, please retain these controls. If not, please provide several control suggestions based on the standard.\n",
      "If you feel it's necessary, you can also suggest additional control measures.\n",
      "ONLY return a dictionary, containing two keys: \"applicable_controls\" and \"suggested_controls\". Each key corresponds to a list as its value. The items in the list is also in dictionary. Nothing more!\n",
      "\n",
      "Sending request to get AI suggestions...\n",
      "End of request...\n",
      "Response:  {'choices': [{'finish_reason': 'stop', 'index': 0, 'message': {'content': '{\\n\"applicable_controls\": [\\n    {\\n        \"id\": \"ISBC-03\",\\n        \"name\": \"Regular Security Audits\",\\n        \"description\": \"Conduct regular security audits and assessments to identify vulnerabilities and ensure compliance with security protocols and standards.\",\\n        \"significance\": \"High\"\\n    },\\n    {\\n        \"id\": \"CV-02\",\\n        \"name\": \"Compliance Monitoring\",\\n        \"description\": \"Establish processes for ongoing monitoring and review of activities to detect and prevent any potential compliance violations.\",\\n        \"significance\": \"High\"\\n    }\\n],\\n\"suggested_controls\": [\\n    {\\n        \"id\": \"RMF-01\",\\n        \"name\": \"Risk Assessment\",\\n        \"description\": \"Conduct a risk assessment to identify, analyze, and prioritize risks according to NIST SP 800-37.\"\\n    },\\n    {\\n        \"id\": \"RMF-02\",\\n        \"name\": \"Security Control Selection\",\\n        \"description\": \"Select and implement appropriate security controls based on the results of the risk assessment.\"\\n    },\\n    {\\n        \"id\": \"RMF-03\",\\n        \"name\": \"Security Control Implementation\",\\n        \"description\": \"Implement the selected security controls and document the system security plan.\"\\n    },\\n    {\\n        \"id\": \"RMF-04\",\\n        \"name\": \"Security Control Assessment\",\\n        \"description\": \"Assess the effectiveness of the implemented security controls.\"\\n    },\\n    {\\n        \"id\": \"RMF-05\",\\n        \"name\": \"Information System Authorization\",\\n        \"description\": \"Authorize information system operation based on a determination of the risk to organizational operations and assets.\"\\n    },\\n    {\\n        \"id\": \"RMF-06\",\\n        \"name\": \"Security Control Monitoring\",\\n        \"description\": \"Monitor and assess the effectiveness of the security controls on an ongoing basis.\"\\n    }\\n]\\n}', 'role': 'assistant'}}], 'created': 1710316115, 'id': 'chatcmpl-92DdjkFeYnTNxE3v9L51DpXlYJhoE', 'model': 'gpt-4-32k', 'object': 'chat.completion', 'system_fingerprint': None, 'usage': {'completion_tokens': 382, 'prompt_tokens': 434, 'total_tokens': 816}}\n"
     ]
    },
    {
     "data": {
      "text/plain": [
       "{'applicable_controls': [{'id': 'ISBC-03',\n",
       "   'name': 'Regular Security Audits',\n",
       "   'description': 'Conduct regular security audits and assessments to identify vulnerabilities and ensure compliance with security protocols and standards.',\n",
       "   'significance': 'High'},\n",
       "  {'id': 'CV-02',\n",
       "   'name': 'Compliance Monitoring',\n",
       "   'description': 'Establish processes for ongoing monitoring and review of activities to detect and prevent any potential compliance violations.',\n",
       "   'significance': 'High'}],\n",
       " 'suggested_controls': [{'id': 'RMF-01',\n",
       "   'name': 'Risk Assessment',\n",
       "   'description': 'Conduct a risk assessment to identify, analyze, and prioritize risks according to NIST SP 800-37.'},\n",
       "  {'id': 'RMF-02',\n",
       "   'name': 'Security Control Selection',\n",
       "   'description': 'Select and implement appropriate security controls based on the results of the risk assessment.'},\n",
       "  {'id': 'RMF-03',\n",
       "   'name': 'Security Control Implementation',\n",
       "   'description': 'Implement the selected security controls and document the system security plan.'},\n",
       "  {'id': 'RMF-04',\n",
       "   'name': 'Security Control Assessment',\n",
       "   'description': 'Assess the effectiveness of the implemented security controls.'},\n",
       "  {'id': 'RMF-05',\n",
       "   'name': 'Information System Authorization',\n",
       "   'description': 'Authorize information system operation based on a determination of the risk to organizational operations and assets.'},\n",
       "  {'id': 'RMF-06',\n",
       "   'name': 'Security Control Monitoring',\n",
       "   'description': 'Monitor and assess the effectiveness of the security controls on an ongoing basis.'}]}"
      ]
     },
     "execution_count": 43,
     "metadata": {},
     "output_type": "execute_result"
    }
   ],
   "source": [
    "result = chain.run(standard=\"NIST SP 800-37 - Risk Management Framework for Information Systems and Organizations\", risk=query, controls=\"\\n\".join(relevant_docs))\n",
    "result"
   ]
  },
  {
   "cell_type": "code",
   "execution_count": 47,
   "metadata": {},
   "outputs": [
    {
     "data": {
      "text/plain": [
       "'ID: ISBC-03\\nName: Regular Security Audits\\nDescription: Conduct regular security audits and assessments to identify vulnerabilities and ensure compliance with security protocols and standards.\\nSignificance: High\\n\\nID: CV-02\\nName: Compliance Monitoring\\nDescription: Establish processes for ongoing monitoring and review of activities to detect and prevent any potential compliance violations.\\nSignificance: High'"
      ]
     },
     "execution_count": 47,
     "metadata": {},
     "output_type": "execute_result"
    }
   ],
   "source": [
    "formatted_data = \"\\n\\n\".join([f\"ID: {item['id']}\\nName: {item['name']}\\nDescription: {item['description']}\\nSignificance: {item['significance']}\" for item in result['applicable_controls']])\n",
    "formatted_data"
   ]
  },
  {
   "cell_type": "markdown",
   "metadata": {},
   "source": [
    "### Evaluation"
   ]
  },
  {
   "cell_type": "code",
   "execution_count": 50,
   "metadata": {},
   "outputs": [
    {
     "data": {
      "text/plain": [
       "{'score': 0, 'reasoning': 'expected string or bytes-like object'}"
      ]
     },
     "execution_count": 50,
     "metadata": {},
     "output_type": "execute_result"
    }
   ],
   "source": [
    "from langchain.evaluation import load_evaluator\n",
    "evaluator = load_evaluator('json_validity')\n",
    "evaluator.evaluate_strings(prediction=result)"
   ]
  },
  {
   "cell_type": "code",
   "execution_count": 48,
   "metadata": {},
   "outputs": [
    {
     "name": "stdout",
     "output_type": "stream",
     "text": [
      "Prompt:  System: You are a helpful assistant.\n",
      "Human: [Instruction]\n",
      "Please act as an impartial judge and evaluate the quality of the response provided by an AI assistant to the user question displayed below. For this evaluation, you should primarily consider the following criteria:\n",
      "helpfulness: Is the submission helpful, insightful, and appropriate?\n",
      "relevance: Is the submission referring to a real quote from the text?\n",
      "correctness: Is the submission correct, accurate, and factual?\n",
      "depth: Does the submission demonstrate depth of thought?\n",
      "[Ground truth]\n",
      "Control measures are designed to reduce the likelihood or impact of risks. They can include policies, procedures, guidelines, and physical or technological safeguards. The given control should be applicable to the given risk and meet the standard NIST SP 800-37 - Risk Management Framework for Information Systems and Organizations.\n",
      "Begin your evaluation by providing a short explanation. Be as objective as possible. After providing your explanation, you must rate the response on a scale of 1 to 10 by strictly following this format: \"[[rating]]\", for example: \"Rating: [[5]]\".\n",
      "\n",
      "[Question]\n",
      "Could you please suggest one control for the risk name: Regular Security Audits\n",
      "description: Conduct regular security audits and assessments to identify vulnerabilities and ensure compliance with security protocols and standards.? Only need control name within 10 words.\n",
      "\n",
      "[The Start of Assistant's Answer]\n",
      "Risk Assessment\n",
      "[The End of Assistant's Answer]\n",
      "Sending request to get AI suggestions...\n",
      "End of request...\n",
      "Response:  {'choices': [{'finish_reason': 'stop', 'index': 0, 'message': {'content': 'The assistant\\'s response is relevant and correct as \"Risk Assessment\" is indeed a control measure that can be used to manage the risk of not conducting regular security audits. However, the response lacks depth and detail. It would have been more helpful if the assistant had provided a brief explanation of how risk assessment could be used as a control measure in this context. \\n\\nRating: [[6]]', 'role': 'assistant'}}], 'created': 1710321469, 'id': 'chatcmpl-92F25v68bFse7Vyok8BBirYBxKae4', 'model': 'gpt-4-32k', 'object': 'chat.completion', 'system_fingerprint': None, 'usage': {'completion_tokens': 77, 'prompt_tokens': 293, 'total_tokens': 370}}\n",
      "{'reasoning': 'The assistant\\'s response is relevant and correct as \"Risk Assessment\" is indeed a control measure that can be used to manage the risk of not conducting regular security audits. However, the response lacks depth and detail. It would have been more helpful if the assistant had provided a brief explanation of how risk assessment could be used as a control measure in this context. \\n\\nRating: [[6]]', 'score': 6}\n"
     ]
    }
   ],
   "source": [
    "from langchain.evaluation import load_evaluator\n",
    "evaluator = load_evaluator(\"labeled_score_string\", llm=customLLM)\n",
    "eval_result = evaluator.evaluate_strings(\n",
    "    prediction=result['suggested_controls'][0]['name'],\n",
    "    reference=\"Control measures are designed to reduce the likelihood or impact of risks. They can include policies, procedures, guidelines, and physical or technological safeguards. The given control should be applicable to the given risk and meet the standard {}.\".format(\"NIST SP 800-37 - Risk Management Framework for Information Systems and Organizations\"),\n",
    "    input=\"Could you please suggest one control for the risk {}? Only need control name within 10 words.\".format(query),\n",
    ")\n",
    "print(eval_result)"
   ]
  },
  {
   "cell_type": "markdown",
   "metadata": {},
   "source": [
    "#### SAP HANA Cloud Vector Engine"
   ]
  },
  {
   "cell_type": "code",
   "execution_count": 59,
   "metadata": {},
   "outputs": [
    {
     "ename": "Error",
     "evalue": "(-10709, 'Connection failed (RTE:[1000013] Key not valid for use in specified state.\\r\\n (0.0.0.0:59842 -> ba530f48-c50f-4cdb-9bbf-5a23d99e1793.hna0.canary-eu10.hanacloud.ondemand.com:443))')",
     "output_type": "error",
     "traceback": [
      "\u001b[1;31m---------------------------------------------------------------------------\u001b[0m",
      "\u001b[1;31mError\u001b[0m                                     Traceback (most recent call last)",
      "Cell \u001b[1;32mIn[59], line 14\u001b[0m\n\u001b[0;32m     11\u001b[0m HANA_DB_PASSWORD\u001b[38;5;241m=\u001b[39m\u001b[38;5;124m\"\u001b[39m\u001b[38;5;124mAlVcv?1Pn@xvykTEV\u001b[39m\u001b[38;5;124m\"\u001b[39m \u001b[38;5;66;03m# replace with the password of HANA DB\u001b[39;00m\n\u001b[0;32m     13\u001b[0m \u001b[38;5;66;03m# Use connection settings from the environment\u001b[39;00m\n\u001b[1;32m---> 14\u001b[0m connection \u001b[38;5;241m=\u001b[39m \u001b[43mdbapi\u001b[49m\u001b[38;5;241;43m.\u001b[39;49m\u001b[43mconnect\u001b[49m\u001b[43m(\u001b[49m\n\u001b[0;32m     15\u001b[0m \u001b[43m    \u001b[49m\u001b[43maddress\u001b[49m\u001b[38;5;241;43m=\u001b[39;49m\u001b[43mHANA_DB_ADDRESS\u001b[49m\u001b[43m,\u001b[49m\n\u001b[0;32m     16\u001b[0m \u001b[43m    \u001b[49m\u001b[43mport\u001b[49m\u001b[38;5;241;43m=\u001b[39;49m\u001b[43mHANA_DB_PORT\u001b[49m\u001b[43m,\u001b[49m\n\u001b[0;32m     17\u001b[0m \u001b[43m    \u001b[49m\u001b[43muser\u001b[49m\u001b[38;5;241;43m=\u001b[39;49m\u001b[43mHANA_DB_USER\u001b[49m\u001b[43m,\u001b[49m\n\u001b[0;32m     18\u001b[0m \u001b[43m    \u001b[49m\u001b[43mpassword\u001b[49m\u001b[38;5;241;43m=\u001b[39;49m\u001b[43mHANA_DB_PASSWORD\u001b[49m\u001b[43m,\u001b[49m\n\u001b[0;32m     19\u001b[0m \u001b[43m    \u001b[49m\u001b[43mencrypt\u001b[49m\u001b[38;5;241;43m=\u001b[39;49m\u001b[38;5;28;43;01mTrue\u001b[39;49;00m\u001b[43m,\u001b[49m\n\u001b[0;32m     20\u001b[0m \u001b[43m    \u001b[49m\u001b[43msslValidateCertificate\u001b[49m\u001b[38;5;241;43m=\u001b[39;49m\u001b[38;5;28;43;01mFalse\u001b[39;49;00m\u001b[43m,\u001b[49m\n\u001b[0;32m     21\u001b[0m \u001b[43m)\u001b[49m\n",
      "\u001b[1;31mError\u001b[0m: (-10709, 'Connection failed (RTE:[1000013] Key not valid for use in specified state.\\r\\n (0.0.0.0:59842 -> ba530f48-c50f-4cdb-9bbf-5a23d99e1793.hna0.canary-eu10.hanacloud.ondemand.com:443))')"
     ]
    }
   ],
   "source": [
    "from hdbcli import dbapi\n",
    "from langchain_community.vectorstores.hanavector import HanaDB\n",
    "\n",
    "HANA_DB_ADDRESS=\"ba530f48-c50f-4cdb-9bbf-5a23d99e1793.hna0.canary-eu10.hanacloud.ondemand.com\" # replace with the address of HANA DB\n",
    "# For HANA tenant databases, use the port number 3**NN**13 (where NN is the SAP instance number - e.g. 30013).\n",
    "# For HANA system databases in a multitenant system, the port number is 3**NN**13.\n",
    "# For HANA single-tenant databases, the port number is 3**NN**15.\n",
    "# https://pypi.org/project/hdbcli/\n",
    "HANA_DB_PORT=443\n",
    "HANA_DB_USER=\"DBADMIN\"\n",
    "HANA_DB_PASSWORD=\"AlVcv?1Pn@xvykTEV\" # replace with the password of HANA DB\n",
    "\n",
    "# Use connection settings from the environment\n",
    "connection = dbapi.connect(\n",
    "    address=HANA_DB_ADDRESS,\n",
    "    port=HANA_DB_PORT,\n",
    "    user=HANA_DB_USER,\n",
    "    password=HANA_DB_PASSWORD,\n",
    "    encrypt=True,\n",
    "    sslValidateCertificate=False,\n",
    ")"
   ]
  },
  {
   "cell_type": "code",
   "execution_count": null,
   "metadata": {},
   "outputs": [],
   "source": [
    "db = HanaDB(embedding=embeddings_model, connection=connection, table_name=\"CONTROL\")"
   ]
  },
  {
   "cell_type": "code",
   "execution_count": null,
   "metadata": {},
   "outputs": [],
   "source": [
    "# Delete already existing documents from the table\n",
    "db.delete(filter={})\n",
    "\n",
    "# add the loaded document chunks\n",
    "db.add_documents(documents)"
   ]
  },
  {
   "cell_type": "code",
   "execution_count": 13,
   "metadata": {},
   "outputs": [
    {
     "data": {
      "text/plain": [
       "['id: ISBC-02\\nname: Encryption Mechanism\\ndescription: Utilize encryption mechanisms for data at rest and data in transit to safeguard against unauthorized interception and access.\\nsignificance: High',\n",
       " 'id: CV-01\\nname: Compliance Training\\ndescription: Provide regular training sessions to employees on relevant regulations and compliance requirements to ensure awareness and adherence.\\nsignificance: High',\n",
       " 'id: RDPRC-03\\nname: Stakeholder Engagement\\ndescription: Maintain open lines of communication with key stakeholders such as customers, investors, and the media to build trust and credibility, reducing the impact of potential reputation damage.\\nsignificance: High',\n",
       " 'id: ODTF-03\\nname: Regular Maintenance Schedule\\ndescription: Implement a routine maintenance schedule for hardware and software systems to proactively identify and address potential issues before they escalate.\\nsignificance: Medium',\n",
       " 'id: RDPRC-02\\nname: Media Monitoring\\ndescription: Implement media monitoring tools to track mentions and sentiment about the company in real-time, allowing for swift responses to emerging issues.\\nsignificance: Medium',\n",
       " 'id: ISBC-01\\nname: Access Control Policy\\ndescription: Implement a robust access control policy to restrict unauthorized access to sensitive information and systems.\\nsignificance: High',\n",
       " 'id: RDPRC-01\\nname: Crisis Communication Plan\\ndescription: Develop a comprehensive crisis communication plan outlining protocols for effectively addressing and mitigating reputational damage in the event of a public relations crisis.\\nsignificance: High',\n",
       " 'id: ISBC-03\\nname: Regular Security Audits\\ndescription: Conduct regular security audits and assessments to identify vulnerabilities and ensure compliance with security protocols and standards.\\nsignificance: High',\n",
       " 'id: CV-02\\nname: Compliance Monitoring\\ndescription: Establish processes for ongoing monitoring and review of activities to detect and prevent any potential compliance violations.\\nsignificance: High',\n",
       " 'id: CV-03\\nname: Documented Policies and Procedures\\ndescription: Maintain up-to-date documentation of policies and procedures related to regulatory compliance and ensure employees have easy access to this information.\\nsignificance: Medium',\n",
       " 'id: ODTF-02\\nname: Disaster Recovery Plan\\ndescription: Develop and maintain a comprehensive disaster recovery plan outlining procedures for restoring operations in the event of a technical failure or disaster.\\nsignificance: High']"
      ]
     },
     "execution_count": 13,
     "metadata": {},
     "output_type": "execute_result"
    }
   ],
   "source": [
    "page_contents = []\n",
    "for i in ai_results:\n",
    "    for doc in db.similarity_search(i):\n",
    "        page_contents.append(doc.page_content)\n",
    "unique_docs = list(set(page_contents))\n",
    "unique_docs"
   ]
  }
 ],
 "metadata": {
  "kernelspec": {
   "display_name": "Python 3",
   "language": "python",
   "name": "python3"
  },
  "language_info": {
   "codemirror_mode": {
    "name": "ipython",
    "version": 3
   },
   "file_extension": ".py",
   "mimetype": "text/x-python",
   "name": "python",
   "nbconvert_exporter": "python",
   "pygments_lexer": "ipython3",
   "version": "3.10.2"
  }
 },
 "nbformat": 4,
 "nbformat_minor": 2
}
