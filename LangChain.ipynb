{
 "cells": [
  {
   "cell_type": "markdown",
   "metadata": {},
   "source": [
    "# LangChain Research"
   ]
  },
  {
   "cell_type": "markdown",
   "metadata": {},
   "source": [
    "### Authorization"
   ]
  },
  {
   "cell_type": "code",
   "execution_count": 1,
   "metadata": {},
   "outputs": [
    {
     "name": "stdout",
     "output_type": "stream",
     "text": [
      "eyJhbGciOiJSUzI1NiIsImprdSI6Imh0dHBzOi8vbGVhcm5pbmcuYXV0aGVudGljYXRpb24uc2FwLmhhbmEub25kZW1hbmQuY29tL3Rva2VuX2tleXMiLCJraWQiOiJkZWZhdWx0LWp3dC1rZXktLTIzMzI4MjQ0NSIsInR5cCI6IkpXVCIsImppZCI6ICJEK2R5Mi90N3lEWHZiZHFycGlKeloxSlh0WjcrMXNWdC96bVdVbVFmbkJZPSJ9.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.V7h0s4StI_IZZBycUrO1Smkx7sPWEIt-Cxcm4u74N9obAdJBbtyWyU5Z65SR6U19OYZSiYsZ_ZE5pHTwTgy8CiKsuqmsvi_oWEtnGqjCzxUzuZyqHc3H6A75DrEiGTZXl8EVK3IC4QUGS3e7D9Q1rV73TLcTol4LoYsFUkvzcIug_Z4e7e8tk5agnzhEsrL9xWN4oFi8ac8ALevkOwlBLyiVGpbviXnzv4toApQwOnYFnVyPkRIFpFe0Vm-BM0gw3rddhz_EnXPWrqpq-g8gVdNDEDDHou4B7rY70spy2ehj52-hgoZ_yN6_IW0iArF6Zcj41hOatz0Qz9sKvSSrtw\n"
     ]
    }
   ],
   "source": [
    "# Get the user token for api access\n",
    "import requests\n",
    "from requests.auth import HTTPBasicAuth\n",
    "client_id = 'sb-75479b89-e2f4-4c3f-a722-486e9bdd9dc8!b39571|xsuaa_std!b77089'\n",
    "client_secret = '2ae79f68-6785-4b28-8ed5-825e1ee154bf$nCq1GdPh6NeyfVNuIYtWP31bNcm-LEC6zmQIlboT6FU='\n",
    "response = requests.get(\n",
    "    'https://learning.authentication.sap.hana.ondemand.com/oauth/token?grant_type=client_credentials',\n",
    "    auth = HTTPBasicAuth(client_id, client_secret)\n",
    ")\n",
    "if (response.status_code != 200):\n",
    "    print(\"Error: \" + str(response.status_code))\n",
    "    print(response.json())\n",
    "    exit(1)\n",
    "userToken = response.json()[\"access_token\"]\n",
    "print(userToken)"
   ]
  },
  {
   "cell_type": "markdown",
   "metadata": {},
   "source": [
    "### Generate Model"
   ]
  },
  {
   "cell_type": "code",
   "execution_count": 2,
   "metadata": {},
   "outputs": [],
   "source": [
    "# Initialize the custom language model\n",
    "from CustomModel import CustomLLM\n",
    "customLLM = CustomLLM.CustomLLM(\n",
    "    url=\"https://api.ai.internalprod.eu-central-1.aws.ml.hana.ondemand.com/v2/inference/deployments/d449d2c58f869ea0/chat/completions?api-version=2023-05-15\",\n",
    "    userToken=userToken,\n",
    "    max_tokens=5000,\n",
    "    temperature=0.0,\n",
    "    frequency_penalty=0,\n",
    "    presence_penalty=0\n",
    ")"
   ]
  },
  {
   "cell_type": "code",
   "execution_count": 3,
   "metadata": {},
   "outputs": [
    {
     "name": "stdout",
     "output_type": "stream",
     "text": [
      "\u001b[1mCustomLLM\u001b[0m\n",
      "Params: {'url': 'https://api.ai.internalprod.eu-central-1.aws.ml.hana.ondemand.com/v2/inference/deployments/d449d2c58f869ea0/chat/completions?api-version=2023-05-15', 'userToken': 'eyJhbGciOiJSUzI1NiIsImprdSI6Imh0dHBzOi8vbGVhcm5pbmcuYXV0aGVudGljYXRpb24uc2FwLmhhbmEub25kZW1hbmQuY29tL3Rva2VuX2tleXMiLCJraWQiOiJkZWZhdWx0LWp3dC1rZXktLTIzMzI4MjQ0NSIsInR5cCI6IkpXVCIsImppZCI6ICJZQjBSZjBuRURrbkMva0ZEWkRyTEViYTRYQnlhMkloeXdTUERRdThaYzVJPSJ9.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.nUxrgYsbU7kd4M2asuS8hnpCZkNp23gxIGmjKwzvplc2vpR2g4SicRPfG4G0xvk9HXNwqEFldKSMBSwnZmveOH7RpcQXiNLyJWFATe2AUOY2MYO1d-ZsFfNsUqTTPQr6Eg9xtqYNTLsmCMKFNR7J-qzymMFBI2Qb5qTBWx_e5R1GaTNMuF4Ile_uCz5bcJfPzhpvrXXLeTg36xhqnFv5VAQHZk3E0XrPZD4WrrszkAX2kZwMdy_W3n5CB_6nGdr0H0LG6j1GABtoTZRhUIkxEyMD4bHumKHD71n4fUDLlkZ5OrpI_EAH0elfZ1RBfIwLootix0xSzo88d6jCGZF-dA', 'max_tokens': 5000, 'temperature': 0.0, 'frequency_penalty': 0.0, 'presence_penalty': 0.0}\n"
     ]
    }
   ],
   "source": [
    "print(customLLM)"
   ]
  },
  {
   "cell_type": "markdown",
   "metadata": {},
   "source": [
    "## Model I/O"
   ]
  },
  {
   "cell_type": "code",
   "execution_count": 3,
   "metadata": {},
   "outputs": [
    {
     "name": "stdout",
     "output_type": "stream",
     "text": [
      "Prompt:  You are a helpful assisstant. Now I am going to ask you a question. What is the capital of France?\n",
      "Sending request...\n",
      "End of request...\n",
      "Response:  {'choices': [{'finish_reason': 'stop', 'index': 0, 'message': {'content': 'The capital of France is Paris.', 'role': 'assistant'}}], 'created': 1708913779, 'id': 'chatcmpl-8wKpPq6Y9KG1PGIrA9mnrN9WAd9aI', 'model': 'gpt-4-32k', 'object': 'chat.completion', 'usage': {'completion_tokens': 7, 'prompt_tokens': 32, 'total_tokens': 39}}\n"
     ]
    },
    {
     "data": {
      "text/plain": [
       "'The capital of France is Paris.'"
      ]
     },
     "execution_count": 3,
     "metadata": {},
     "output_type": "execute_result"
    }
   ],
   "source": [
    "customLLM.invoke(\"You are a helpful assisstant. Now I am going to ask you a question. What is the capital of France?\")"
   ]
  },
  {
   "cell_type": "code",
   "execution_count": 6,
   "metadata": {},
   "outputs": [
    {
     "data": {
      "text/plain": [
       "'What is a good name for a company that makes colorful socks?'"
      ]
     },
     "execution_count": 6,
     "metadata": {},
     "output_type": "execute_result"
    }
   ],
   "source": [
    "from langchain.prompts import PromptTemplate\n",
    "\n",
    "prompt = PromptTemplate.from_template(\"What is a good name for a company that makes {product}?\")\n",
    "prompt.format(product=\"colorful socks\")"
   ]
  },
  {
   "cell_type": "code",
   "execution_count": 5,
   "metadata": {},
   "outputs": [
    {
     "data": {
      "text/plain": [
       "[SystemMessage(content='You are a helpful assistant that translates English to French.'),\n",
       " HumanMessage(content='I love programming.')]"
      ]
     },
     "execution_count": 5,
     "metadata": {},
     "output_type": "execute_result"
    }
   ],
   "source": [
    "from langchain.prompts.chat import (\n",
    "    ChatPromptTemplate,\n",
    "    SystemMessagePromptTemplate,\n",
    "    HumanMessagePromptTemplate,\n",
    ")\n",
    "\n",
    "template = \"You are a helpful assistant that translates {input_language} to {output_language}.\"\n",
    "system_message_prompt = SystemMessagePromptTemplate.from_template(template)\n",
    "human_template = \"{text}\"\n",
    "human_message_prompt = HumanMessagePromptTemplate.from_template(human_template)\n",
    "\n",
    "chat_prompt = ChatPromptTemplate.from_messages([system_message_prompt, human_message_prompt])\n",
    "\n",
    "chat_prompt.format_messages(input_language=\"English\", output_language=\"French\", text=\"I love programming.\")"
   ]
  },
  {
   "cell_type": "code",
   "execution_count": 5,
   "metadata": {},
   "outputs": [
    {
     "name": "stderr",
     "output_type": "stream",
     "text": [
      "c:\\Users\\I554840\\AppData\\Local\\Programs\\Python\\Python310\\lib\\site-packages\\langchain_core\\_api\\deprecation.py:117: LangChainDeprecationWarning: The function `run` was deprecated in LangChain 0.1.0 and will be removed in 0.2.0. Use invoke instead.\n",
      "  warn_deprecated(\n"
     ]
    },
    {
     "name": "stdout",
     "output_type": "stream",
     "text": [
      "Prompt:  System: You are a helpful assistant who generates comma separated lists.\n",
      "A user will pass in a category, and you should generate 5 objects in that category in a comma separated list.\n",
      "ONLY return a comma separated list, and nothing more.\n",
      "Human: colors\n",
      "Sending request...\n",
      "End of request...\n"
     ]
    },
    {
     "data": {
      "text/plain": [
       "['Red', 'Blue', 'Green', 'Yellow', 'Purple']"
      ]
     },
     "execution_count": 5,
     "metadata": {},
     "output_type": "execute_result"
    }
   ],
   "source": [
    "from langchain.prompts.chat import (\n",
    "    ChatPromptTemplate,\n",
    "    SystemMessagePromptTemplate,\n",
    "    HumanMessagePromptTemplate,\n",
    ")\n",
    "from langchain.chains import LLMChain\n",
    "from langchain.schema import BaseOutputParser\n",
    "\n",
    "class CommaSeparatedListOutputParser(BaseOutputParser):\n",
    "    \"\"\"Parse the output of an LLM call to a comma-separated list.\"\"\"\n",
    "\n",
    "\n",
    "    def parse(self, text: str):\n",
    "        \"\"\"Parse the output of an LLM call.\"\"\"\n",
    "        return text.strip().split(\", \")\n",
    "\n",
    "template = \"\"\"You are a helpful assistant who generates comma separated lists.\n",
    "A user will pass in a category, and you should generate 5 objects in that category in a comma separated list.\n",
    "ONLY return a comma separated list, and nothing more.\"\"\"\n",
    "system_message_prompt = SystemMessagePromptTemplate.from_template(template)\n",
    "human_template = \"{text}\"\n",
    "human_message_prompt = HumanMessagePromptTemplate.from_template(human_template)\n",
    "\n",
    "chat_prompt = ChatPromptTemplate.from_messages([system_message_prompt, human_message_prompt])\n",
    "chain = LLMChain(\n",
    "    llm=customLLM,\n",
    "    prompt=chat_prompt,\n",
    "    output_parser=CommaSeparatedListOutputParser()\n",
    ")\n",
    "chain.run(\"colors\")"
   ]
  },
  {
   "cell_type": "code",
   "execution_count": 17,
   "metadata": {},
   "outputs": [
    {
     "name": "stdout",
     "output_type": "stream",
     "text": [
      "Prompt:  System: You are an experienced risk assessment expert. Please utilize your knowledge of risk management and Security Frameworks like “ISO27001”, Privacy Frameworks like “GRDR”, “HIPAA” and other Compliance Frameworks to answer the questions based on the relevant information.\n",
      "Please perform the following tasks:\n",
      "1 - Understand Treatment types and treatment type classification standards.\n",
      "    1. \"Control\": Control measures are designed to reduce the likelihood or impact of risks. They can include policies, procedures, guidelines, and physical or technological safeguards.\n",
      "    2. \"Response\": Response actions are the steps taken when a risk eventuates, or an incident occurs despite the control measures in place. These actions are intended to minimize the damage or harm caused by the risk.\n",
      "2 - Suggest approperiate treatments based on the risk user given. Your answer should be a list. Every record, it should only contain type and name. “name” is the summary information of treatment, less than 10 words. Please use your knowledge to set name for your treatment.\n",
      "The example of format: {\"treatments\":[{\"Type\": <Type>,\"Name\": <name>},{\"Type\": <Type>,\"Name\": <name>}]}\n",
      "\n",
      "Human: {\"name\": \"Unauthorized access to personal data\", \"description\": \"Personal data must never be accessed by unauthorized persons.\", \"riskCategory\": \"Privacy\", \"total Probability Reduction\": \"7.00\", \"total Impact Reduction\": \"25000000.00EUR\", \"responseDecision_code\": \"mit\", \"Causes\": [{\"Case Name\": \"Outside attack with data theft\", \"Case description\": \"Market Development (External)\"}, {\"Case Name\": \"Misconduct\", \"Case description\": \"Internal Causes, e.g. by Employee\"}], \"Impacts\": [{\"Impact Name\": \"Loss of future revenue\", \"Category\": \"Financial\", \"Impact Value\": \"15000000EUR\", \"Impact level\": \"Very High\", \"Impact description\": \"Direct Loss\"}, {\"Impact Name\": \"Fines from the data protection agency\", \"Category\": \"Legal\", \"Impact Value\": \"25000000EUR\", \"Impact level\": \"Very High\", \"Impact description\": \"Fines and Court Expenses \"}, {\"Impact Name\": \"Loss of customer trust\", \"Category\": \"Financial\", \"Impact Value\": \"5000000EUR\", \"Impact level\": \"Very High\", \"Impact description\": \"Reputation\"}], \"Inherent Risk \": [{\"total lost\": \"450000000EUR\", \"total impact level\": \"Very high\", \"likelihood Value\": \"8.3%\", \"likelihood level\": \"Very Low\", \"risk level\": \"medium\"}]}\n",
      "Sending request...\n",
      "End of request...\n"
     ]
    },
    {
     "data": {
      "text/plain": [
       "[{'Type': 'Control', 'Name': 'Implement Access Control'},\n",
       " {'Type': 'Control', 'Name': 'Regular Security Audits'},\n",
       " {'Type': 'Control', 'Name': 'Employee Training'},\n",
       " {'Type': 'Response', 'Name': 'Incident Response Plan'},\n",
       " {'Type': 'Response', 'Name': 'Data Breach Notification'}]"
      ]
     },
     "execution_count": 17,
     "metadata": {},
     "output_type": "execute_result"
    }
   ],
   "source": [
    "from langchain.prompts.chat import (\n",
    "    ChatPromptTemplate,\n",
    "    SystemMessagePromptTemplate,\n",
    "    HumanMessagePromptTemplate,\n",
    ")\n",
    "from langchain.chains import LLMChain\n",
    "from langchain.schema import BaseOutputParser\n",
    "import json\n",
    "\n",
    "class GetListFromResult(BaseOutputParser):\n",
    "\n",
    "    def parse(self, text: str):\n",
    "        \"\"\"Parse the output of an LLM call.\"\"\"\n",
    "        return json.loads(text)['treatments']\n",
    "\n",
    "template = \"\"\"You are an experienced risk assessment expert. Please utilize your knowledge of risk management and Security Frameworks like “ISO27001”, Privacy Frameworks like “GRDR”, “HIPAA” and other Compliance Frameworks to answer the questions based on the relevant information.\n",
    "Please perform the following tasks:\n",
    "1 - Understand Treatment types and treatment type classification standards.\n",
    "    1. \"Control\": Control measures are designed to reduce the likelihood or impact of risks. They can include policies, procedures, guidelines, and physical or technological safeguards.\n",
    "    2. \"Response\": Response actions are the steps taken when a risk eventuates, or an incident occurs despite the control measures in place. These actions are intended to minimize the damage or harm caused by the risk.\n",
    "2 - Suggest approperiate treatments based on the risk user given. Your answer should be a list. Every record, it should only contain type and name. “name” is the summary information of treatment, less than 10 words. Please use your knowledge to set name for your treatment.\n",
    "The example of format: {format}\n",
    "\"\"\"\n",
    "system_message_prompt = SystemMessagePromptTemplate.from_template(template)\n",
    "human_template = \"{risk}\"\n",
    "human_message_prompt = HumanMessagePromptTemplate.from_template(human_template)\n",
    "\n",
    "chat_prompt = ChatPromptTemplate.from_messages([system_message_prompt, human_message_prompt])\n",
    "chain = LLMChain(\n",
    "    llm=customLLM,\n",
    "    prompt=chat_prompt,\n",
    "    output_parser=GetListFromResult()\n",
    ")\n",
    "risk = {\n",
    "    \"name\": \"Unauthorized access to personal data\",\n",
    "    \"description\": \"Personal data must never be accessed by unauthorized persons.\",\n",
    "    \"riskCategory\": \"Privacy\",\n",
    "    \"total Probability Reduction\": \"7.00\",\n",
    "    \"total Impact Reduction\": \"25000000.00EUR\",\n",
    "    \"responseDecision_code\": \"mit\",\n",
    "    \"Causes\": [\n",
    "        {\n",
    "            \"Case Name\": \"Outside attack with data theft\",\n",
    "            \"Case description\": \"Market Development (External)\"\n",
    "        },\n",
    "        {\n",
    "            \"Case Name\": \"Misconduct\",\n",
    "            \"Case description\": \"Internal Causes, e.g. by Employee\"\n",
    "        }\n",
    "    ],\n",
    "    \"Impacts\": [\n",
    "        {\n",
    "            \"Impact Name\": \"Loss of future revenue\",\n",
    "            \"Category\": \"Financial\",\n",
    "            \"Impact Value\": \"15000000EUR\",\n",
    "            \"Impact level\": \"Very High\",\n",
    "            \"Impact description\": \"Direct Loss\"\n",
    "        },\n",
    "        {\n",
    "            \"Impact Name\": \"Fines from the data protection agency\",\n",
    "            \"Category\": \"Legal\",\n",
    "            \"Impact Value\": \"25000000EUR\",\n",
    "            \"Impact level\": \"Very High\",\n",
    "            \"Impact description\": \"Fines and Court Expenses \"\n",
    "        },\n",
    "        {\n",
    "            \"Impact Name\": \"Loss of customer trust\",\n",
    "            \"Category\": \"Financial\",\n",
    "            \"Impact Value\": \"5000000EUR\",\n",
    "            \"Impact level\": \"Very High\",\n",
    "            \"Impact description\": \"Reputation\"\n",
    "        }\n",
    "    ],\n",
    "    \"Inherent Risk \": [\n",
    "        {\n",
    "            \"total lost\": \"450000000EUR\",\n",
    "            \"total impact level\": \"Very high\",\n",
    "            \"likelihood Value\": \"8.3%\",\n",
    "            \"likelihood level\": \"Very Low\",\n",
    "            \"risk level\": \"medium\"\n",
    "        }\n",
    "    ]\n",
    "}\n",
    "risk_str = json.dumps(risk)\n",
    "response_format = '{\"treatments\":[{\"Type\": <Type>,\"Name\": <name>},{\"Type\": <Type>,\"Name\": <name>}]}'\n",
    "chain.run(risk=risk_str, format=response_format)"
   ]
  },
  {
   "cell_type": "markdown",
   "metadata": {},
   "source": [
    "## Retrieval"
   ]
  },
  {
   "cell_type": "code",
   "execution_count": 4,
   "metadata": {},
   "outputs": [],
   "source": [
    "from langchain_community.document_loaders.csv_loader import CSVLoader\n",
    "\n",
    "\n",
    "loader = CSVLoader(file_path='./retrieval-demo/Control.csv', csv_args={\n",
    "    'delimiter': ';',\n",
    "    'quotechar': '\"',\n",
    "    'fieldnames': ['id', 'name', 'description']\n",
    "}, source_column=\"id\")\n",
    "data = loader.load()"
   ]
  },
  {
   "cell_type": "code",
   "execution_count": 5,
   "metadata": {},
   "outputs": [],
   "source": [
    "from langchain.text_splitter import CharacterTextSplitter\n",
    "text_splitter = CharacterTextSplitter(chunk_size=1000, chunk_overlap=0)\n",
    "documents = text_splitter.split_documents(data)"
   ]
  },
  {
   "cell_type": "code",
   "execution_count": 6,
   "metadata": {},
   "outputs": [
    {
     "name": "stdout",
     "output_type": "stream",
     "text": [
      "[Document(page_content='id: id\\nname: name\\ndescription: description', metadata={'source': 'id', 'row': 0}), Document(page_content='id: ISBC-01\\nname: Access Control Policy\\ndescription: Implement a robust access control policy to restrict unauthorized access to sensitive information and systems.', metadata={'source': 'ISBC-01', 'row': 1}), Document(page_content='id: ISBC-02\\nname: Encryption Mechanism\\ndescription: Utilize encryption mechanisms for data at rest and data in transit to safeguard against unauthorized interception and access.', metadata={'source': 'ISBC-02', 'row': 2}), Document(page_content='id: ISBC-03\\nname: Regular Security Audits\\ndescription: Conduct regular security audits and assessments to identify vulnerabilities and ensure compliance with security protocols and standards.', metadata={'source': 'ISBC-03', 'row': 3}), Document(page_content='id: ODTF-01\\nname: Redundancy Planning\\ndescription: Establish redundancy plans for critical systems and infrastructure to minimize downtime in case of technical failures.', metadata={'source': 'ODTF-01', 'row': 4}), Document(page_content='id: ODTF-02\\nname: Disaster Recovery Plan\\ndescription: Develop and maintain a comprehensive disaster recovery plan outlining procedures for restoring operations in the event of a technical failure or disaster.', metadata={'source': 'ODTF-02', 'row': 5}), Document(page_content='id: ODTF-03\\nname: Regular Maintenance Schedule\\ndescription: Implement a routine maintenance schedule for hardware and software systems to proactively identify and address potential issues before they escalate.', metadata={'source': 'ODTF-03', 'row': 6}), Document(page_content='id: CV-01\\nname: Compliance Training\\ndescription: Provide regular training sessions to employees on relevant regulations and compliance requirements to ensure awareness and adherence.', metadata={'source': 'CV-01', 'row': 7}), Document(page_content='id: CV-02\\nname: Compliance Monitoring\\ndescription: Establish processes for ongoing monitoring and review of activities to detect and prevent any potential compliance violations.', metadata={'source': 'CV-02', 'row': 8}), Document(page_content='id: CV-03\\nname: Documented Policies and Procedures\\ndescription: Maintain up-to-date documentation of policies and procedures related to regulatory compliance and ensure employees have easy access to this information.', metadata={'source': 'CV-03', 'row': 9}), Document(page_content='id: FF-01\\nname: Segregation of Duties\\ndescription: Implement segregation of duties to ensure that no single individual has control over all aspects of financial transactions, reducing the risk of fraud.', metadata={'source': 'FF-01', 'row': 10}), Document(page_content='id: FF-02\\nname: Fraud Detection Mechanisms\\ndescription: Deploy fraud detection mechanisms such as anomaly detection algorithms and transaction monitoring systems to identify suspicious activities in real-time.', metadata={'source': 'FF-02', 'row': 11}), Document(page_content='id: FF-03\\nname: Whistleblower Policy\\ndescription: Establish a whistleblower policy to encourage employees to report any suspected instances of financial fraud confidentially and without fear of retaliation.', metadata={'source': 'FF-03', 'row': 12}), Document(page_content='id: RDPRC-01\\nname: Crisis Communication Plan\\ndescription: Develop a comprehensive crisis communication plan outlining protocols for effectively addressing and mitigating reputational damage in the event of a public relations crisis.', metadata={'source': 'RDPRC-01', 'row': 13}), Document(page_content='id: RDPRC-02\\nname: Media Monitoring\\ndescription: Implement media monitoring tools to track mentions and sentiment about the company in real-time, allowing for swift responses to emerging issues.', metadata={'source': 'RDPRC-02', 'row': 14}), Document(page_content='id: RDPRC-03\\nname: Stakeholder Engagement\\ndescription: Maintain open lines of communication with key stakeholders such as customers, investors, and the media to build trust and credibility, reducing the impact of potential reputation damage.', metadata={'source': 'RDPRC-03', 'row': 15})]\n"
     ]
    }
   ],
   "source": [
    "print(documents)"
   ]
  },
  {
   "cell_type": "markdown",
   "metadata": {},
   "source": [
    "### Chroma"
   ]
  },
  {
   "cell_type": "code",
   "execution_count": 3,
   "metadata": {},
   "outputs": [
    {
     "name": "stdout",
     "output_type": "stream",
     "text": [
      "['ISBC-01', 'ISBC-02', 'ISBC-03', 'ODTF-01', 'ODTF-02', 'ODTF-03', 'CV-01', 'CV-02', 'CV-03', 'FF-01', 'FF-02', 'FF-03', 'RDPRC-01', 'RDPRC-02', 'RDPRC-03']\n",
      "['Access Control Policy:Implement a robust access control policy to restrict unauthorized access to sensitive information and systems.', 'Encryption Mechanism:Utilize encryption mechanisms for data at rest and data in transit to safeguard against unauthorized interception and access.', 'Regular Security Audits:Conduct regular security audits and assessments to identify vulnerabilities and ensure compliance with security protocols and standards.', 'Redundancy Planning:Establish redundancy plans for critical systems and infrastructure to minimize downtime in case of technical failures.', 'Disaster Recovery Plan:Develop and maintain a comprehensive disaster recovery plan outlining procedures for restoring operations in the event of a technical failure or disaster.', 'Regular Maintenance Schedule:Implement a routine maintenance schedule for hardware and software systems to proactively identify and address potential issues before they escalate.', 'Compliance Training:Provide regular training sessions to employees on relevant regulations and compliance requirements to ensure awareness and adherence.', 'Compliance Monitoring:Establish processes for ongoing monitoring and review of activities to detect and prevent any potential compliance violations.', 'Documented Policies and Procedures:Maintain up-to-date documentation of policies and procedures related to regulatory compliance and ensure employees have easy access to this information.', 'Segregation of Duties:Implement segregation of duties to ensure that no single individual has control over all aspects of financial transactions, reducing the risk of fraud.', 'Fraud Detection Mechanisms:Deploy fraud detection mechanisms such as anomaly detection algorithms and transaction monitoring systems to identify suspicious activities in real-time.', 'Whistleblower Policy:Establish a whistleblower policy to encourage employees to report any suspected instances of financial fraud confidentially and without fear of retaliation.', 'Crisis Communication Plan:Develop a comprehensive crisis communication plan outlining protocols for effectively addressing and mitigating reputational damage in the event of a public relations crisis.', 'Media Monitoring:Implement media monitoring tools to track mentions and sentiment about the company in real-time, allowing for swift responses to emerging issues.', 'Stakeholder Engagement:Maintain open lines of communication with key stakeholders such as customers, investors, and the media to build trust and credibility, reducing the impact of potential reputation damage.']\n",
      "[{'significance': 'High'}, {'significance': 'High'}, {'significance': 'High'}, {'significance': 'High'}, {'significance': 'High'}, {'significance': 'Medium'}, {'significance': 'High'}, {'significance': 'High'}, {'significance': 'Medium'}, {'significance': 'High'}, {'significance': 'High'}, {'significance': 'High'}, {'significance': 'High'}, {'significance': 'Medium'}, {'significance': 'High'}]\n"
     ]
    }
   ],
   "source": [
    "import csv\n",
    "\n",
    "id_list = []\n",
    "content_list = []\n",
    "metadata_list = []\n",
    "with open('./retrieval-demo/Control.csv', newline='') as csvfile:\n",
    "    reader = csv.DictReader(csvfile, delimiter=';')\n",
    "    for row in reader:\n",
    "        id_list.append(row['id'])\n",
    "        content_list.append(row['name'] + \":\" + row['description'])\n",
    "        metadata_list.append({\"significance\": row['significance']})\n",
    "\n",
    "print(id_list)\n",
    "print(content_list)\n",
    "print(metadata_list)"
   ]
  },
  {
   "cell_type": "code",
   "execution_count": 4,
   "metadata": {},
   "outputs": [
    {
     "name": "stderr",
     "output_type": "stream",
     "text": [
      "C:\\Users\\I554840\\.cache\\chroma\\onnx_models\\all-MiniLM-L6-v2\\onnx.tar.gz: 100%|██████████| 79.3M/79.3M [16:03<00:00, 86.3kiB/s]   \n"
     ]
    },
    {
     "name": "stdout",
     "output_type": "stream",
     "text": [
      "{'ids': [['ISBC-01', 'ISBC-02']], 'distances': [[0.4591536819934845, 1.3058046102523804]], 'metadatas': [[{'significance': 'High'}, {'significance': 'High'}]], 'embeddings': None, 'documents': [['Access Control Policy:Implement a robust access control policy to restrict unauthorized access to sensitive information and systems.', 'Encryption Mechanism:Utilize encryption mechanisms for data at rest and data in transit to safeguard against unauthorized interception and access.']], 'uris': None, 'data': None}\n"
     ]
    }
   ],
   "source": [
    "import chromadb\n",
    "# setup Chroma in-memory, for easy prototyping. Can add persistence easily!\n",
    "client = chromadb.Client()\n",
    "\n",
    "# Create collection. get_collection, get_or_create_collection, delete_collection also available!\n",
    "collection = client.create_collection(\"available-controls\")\n",
    "\n",
    "# Add docs to the collection. Can also update and delete. Row-based API coming soon!\n",
    "collection.add(\n",
    "    documents=content_list, # we handle tokenization, embedding, and indexing automatically. You can skip that and add your own embeddings as well\n",
    "    metadatas=metadata_list, # filter on these!\n",
    "    ids=id_list, # unique for each doc\n",
    ")\n",
    "\n",
    "# Query/search 2 most similar results. You can also .get by id\n",
    "results = collection.query(\n",
    "    query_texts=[\"access control\"],\n",
    "    n_results=2,\n",
    "    # where={\"metadata_field\": \"is_equal_to_this\"}, # optional filter\n",
    "    # where_document={\"$contains\":\"search_string\"}  # optional filter\n",
    ")\n",
    "\n",
    "print(results)"
   ]
  },
  {
   "cell_type": "code",
   "execution_count": 5,
   "metadata": {},
   "outputs": [
    {
     "name": "stdout",
     "output_type": "stream",
     "text": [
      "{'ids': [['ISBC-01'], ['CV-01']], 'distances': [[0.4591536819934845], [0.28524553775787354]], 'metadatas': [[{'significance': 'High'}], [{'significance': 'High'}]], 'embeddings': None, 'documents': [['Access Control Policy:Implement a robust access control policy to restrict unauthorized access to sensitive information and systems.'], ['Compliance Training:Provide regular training sessions to employees on relevant regulations and compliance requirements to ensure awareness and adherence.']], 'uris': None, 'data': None}\n"
     ]
    }
   ],
   "source": [
    "results = collection.query(\n",
    "    query_texts=[\"Access Control\", \"Compliance Training\"],\n",
    "    n_results=1,\n",
    "    # where={\"metadata_field\": \"is_equal_to_this\"}, # optional filter\n",
    "    # where_document={\"$contains\":\"search_string\"}  # optional filter\n",
    ")\n",
    "\n",
    "print(results)"
   ]
  },
  {
   "cell_type": "code",
   "execution_count": 10,
   "metadata": {},
   "outputs": [
    {
     "name": "stdout",
     "output_type": "stream",
     "text": [
      "ISBC-01: Access Control Policy; CV-01: Compliance Training\n"
     ]
    }
   ],
   "source": [
    "import pandas as pd\n",
    "\n",
    "df = pd.read_csv('./retrieval-demo/Control.csv', delimiter=';')\n",
    "\n",
    "id_list = []\n",
    "for result in results['ids']:\n",
    "    id_list.extend(result)\n",
    "\n",
    "filtered_data = df[df['id'].isin(id_list)]\n",
    "result = filtered_data.apply(lambda row: f\"{row['id']}: {row['name']}\", axis=1).str.cat(sep='; ')\n",
    "print(result)\n"
   ]
  }
 ],
 "metadata": {
  "kernelspec": {
   "display_name": "Python 3",
   "language": "python",
   "name": "python3"
  },
  "language_info": {
   "codemirror_mode": {
    "name": "ipython",
    "version": 3
   },
   "file_extension": ".py",
   "mimetype": "text/x-python",
   "name": "python",
   "nbconvert_exporter": "python",
   "pygments_lexer": "ipython3",
   "version": "3.10.2"
  }
 },
 "nbformat": 4,
 "nbformat_minor": 2
}
